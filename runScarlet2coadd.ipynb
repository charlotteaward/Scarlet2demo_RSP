{
 "cells": [
  {
   "cell_type": "code",
   "execution_count": null,
   "id": "7947f3ec-7ba8-4141-aa84-ab9675b4bc22",
   "metadata": {},
   "outputs": [],
   "source": [
    "import matplotlib.pyplot as plt\n",
    "from astropy.wcs import WCS\n",
    "from astropy.visualization import make_lupton_rgb\n",
    "from astropy import units as u\n",
    "from astropy.coordinates import SkyCoord\n",
    "import gc\n",
    "import numpy as np\n",
    "import jax.numpy as jnp\n",
    "from astropy.io import fits\n",
    "\n",
    "import lsst.afw.display as afwDisplay\n",
    "from lsst.afw.image import MultibandExposure\n",
    "from lsst.daf.butler import Butler\n",
    "from lsst.rsp import get_tap_service\n",
    "import lsst.geom as geom\n",
    "\n",
    "import tempfile\n",
    "import getpass\n",
    "\n",
    "import scarlet2"
   ]
  },
  {
   "cell_type": "code",
   "execution_count": null,
   "id": "339185d7-c8bb-4ecb-a528-55e263faa1f5",
   "metadata": {},
   "outputs": [],
   "source": [
    "username = getpass.getuser()\n",
    "print('username: ', username)\n",
    "\n",
    "userdir = '/deleted-sundays/' + username\n",
    "if not os.path.exists(userdir):\n",
    "    os.makedirs(userdir)\n",
    "    print('Created ', userdir)\n",
    "else:\n",
    "    print('Directory already existed: ', userdir)"
   ]
  },
  {
   "cell_type": "code",
   "execution_count": 16,
   "id": "d54f4c1c-2fd7-4f3c-9ee7-700e1ee11425",
   "metadata": {
    "execution": {
     "iopub.execute_input": "2025-07-31T19:22:57.219050Z",
     "iopub.status.busy": "2025-07-31T19:22:57.218089Z",
     "iopub.status.idle": "2025-07-31T19:22:57.223709Z",
     "shell.execute_reply": "2025-07-31T19:22:57.223012Z",
     "shell.execute_reply.started": "2025-07-31T19:22:57.219018Z"
    }
   },
   "outputs": [
    {
     "name": "stdout",
     "output_type": "stream",
     "text": [
      "Directory already existed:  /deleted-sundays/charlotteward/dp02_13a_temp\n"
     ]
    }
   ],
   "source": [
    "tempdir = userdir + '/dp02_13a_temp'\n",
    "if not os.path.exists(tempdir):\n",
    "    os.makedirs(tempdir)\n",
    "    print('Created ', tempdir)\n",
    "else:\n",
    "    print('Directory already existed: ', tempdir)"
   ]
  },
  {
   "cell_type": "code",
   "execution_count": 46,
   "id": "c090af85-3647-4b47-8885-320b35b0655f",
   "metadata": {
    "execution": {
     "iopub.execute_input": "2025-07-31T19:26:52.077469Z",
     "iopub.status.busy": "2025-07-31T19:26:52.076758Z",
     "iopub.status.idle": "2025-07-31T19:26:52.085503Z",
     "shell.execute_reply": "2025-07-31T19:26:52.084777Z",
     "shell.execute_reply.started": "2025-07-31T19:26:52.077441Z"
    }
   },
   "outputs": [],
   "source": [
    "def cutout_coadd(butler, ra, dec, band='r', datasetType='deepCoadd',\n",
    "                 skymap=None, cutoutSideLength=51, psf_size=63, **kwargs):\n",
    "    \"\"\"\n",
    "    Produce a cutout from a coadd at the given ra, dec position.\n",
    "\n",
    "    Adapted from DC2 tutorial notebook by Michael Wood-Vasey.\n",
    "\n",
    "    Parameters\n",
    "    ----------\n",
    "    butler: lsst.daf.persistence.Butler\n",
    "        Helper object providing access to a data repository\n",
    "    ra: float\n",
    "        Right ascension of the center of the cutout, in degrees\n",
    "    dec: float\n",
    "        Declination of the center of the cutout, in degrees\n",
    "    band: string\n",
    "        Filter of the image to load\n",
    "    datasetType: string ['deepCoadd']\n",
    "        Which type of coadd to load.  Doesn't support 'calexp'\n",
    "    skymap: lsst.afw.skyMap.SkyMap [optional]\n",
    "        Pass in to avoid the Butler read.  Useful if you have lots of them.\n",
    "    cutoutSideLength: float [optional]\n",
    "        Size of the cutout region in pixels.\n",
    "\n",
    "    Returns\n",
    "    -------\n",
    "    MaskedImage\n",
    "    \"\"\"\n",
    "    radec = geom.SpherePoint(ra, dec, geom.degrees)\n",
    "    cutoutSize = geom.ExtentI(cutoutSideLength, cutoutSideLength)\n",
    "\n",
    "    if skymap is None:\n",
    "        skymap = butler.get(\"skyMap\")\n",
    "\n",
    "    # Look up the tract, patch for the RA, Dec\n",
    "    tractInfo = skymap.findTract(radec)\n",
    "    patchInfo = tractInfo.findPatch(radec)\n",
    "    xy = geom.PointI(tractInfo.getWcs().skyToPixel(radec))\n",
    "    bbox = geom.BoxI(xy - cutoutSize // 2, cutoutSize)\n",
    "    patch = tractInfo.getSequentialPatchIndex(patchInfo)\n",
    "\n",
    "    coaddId = {'tract': tractInfo.getId(), 'patch': patch, 'band': band}\n",
    "    parameters = {'bbox': bbox}\n",
    "\n",
    "    cutout_image = butler.get(datasetType, parameters=parameters,\n",
    "                              dataId=coaddId)\n",
    "    newWCS = cutout_image.getWcs()\n",
    "    anchor_image = butler.get(datasetType, #parameters=parameters,\n",
    "                              dataId=coaddId)#butler.get('deepCoadd_calexp', dataId=anchor_dataId)\n",
    "    anchor_wcs = butler.get('deepCoadd.wcs', dataId=coaddId)#anchor_dataId)\n",
    "    center = geom.SpherePoint(ra, dec, geom.degrees)\n",
    "    anchor_info = anchor_image.getInfo()\n",
    "    center_pix_anchor = anchor_wcs.skyToPixel(center)\n",
    "\n",
    "    newimage_info = cutout_image.getInfo()\n",
    "    center_pix_newimage = newWCS.skyToPixel(center)\n",
    "    point_tuple = (center_pix_anchor[0], center_pix_anchor[1])\n",
    "    point_image = geom.Point2D(point_tuple)\n",
    "    anchor_psf = anchor_image.getPsf()\n",
    "    psf_shape = anchor_psf.computeShape(point_image)\n",
    "\n",
    "    newimage_psf = cutout_image.getPsf()\n",
    "    point_tuple = (center_pix_newimage[0], center_pix_newimage[1])\n",
    "    point_image = geom.Point2D(point_tuple)\n",
    "    psf_shape = newimage_psf.computeShape(point_image)\n",
    "    psf_img = anchor_psf.computeImage(point_image).convertF()\n",
    "    psf_out = psf_img.array\n",
    "    psf_pad_x = int((psf_size-psf_out.shape[0])/2)\n",
    "    psf_pad_y = int((psf_size-psf_out.shape[1])/2)\n",
    "    psf_out = np.pad(psf_out,((psf_pad_x, psf_pad_x),(psf_pad_y, psf_pad_y)), 'constant')\n",
    "    return cutout_image, psf_out, tractInfo.getId(), patch"
   ]
  },
  {
   "cell_type": "code",
   "execution_count": 47,
   "id": "b0cceff6-48b9-4e23-89c4-266e8384868e",
   "metadata": {
    "execution": {
     "iopub.execute_input": "2025-07-31T19:26:52.259254Z",
     "iopub.status.busy": "2025-07-31T19:26:52.258563Z",
     "iopub.status.idle": "2025-07-31T19:26:52.262579Z",
     "shell.execute_reply": "2025-07-31T19:26:52.261931Z",
     "shell.execute_reply.started": "2025-07-31T19:26:52.259221Z"
    }
   },
   "outputs": [],
   "source": [
    "afwDisplay.setDefaultBackend('matplotlib')"
   ]
  },
  {
   "cell_type": "code",
   "execution_count": 48,
   "id": "e7a0c5d5-1d79-49c1-b82a-33bb495dffce",
   "metadata": {
    "execution": {
     "iopub.execute_input": "2025-07-31T19:26:52.442252Z",
     "iopub.status.busy": "2025-07-31T19:26:52.441250Z",
     "iopub.status.idle": "2025-07-31T19:26:52.446481Z",
     "shell.execute_reply": "2025-07-31T19:26:52.445761Z",
     "shell.execute_reply.started": "2025-07-31T19:26:52.442212Z"
    }
   },
   "outputs": [],
   "source": [
    "plt.style.use('tableau-colorblind10')\n",
    "%matplotlib inline"
   ]
  },
  {
   "cell_type": "code",
   "execution_count": 49,
   "id": "fb47d842-1fb4-4e1c-94f5-3abe86f27e6f",
   "metadata": {
    "execution": {
     "iopub.execute_input": "2025-07-31T19:26:52.644071Z",
     "iopub.status.busy": "2025-07-31T19:26:52.643104Z",
     "iopub.status.idle": "2025-07-31T19:26:52.648265Z",
     "shell.execute_reply": "2025-07-31T19:26:52.647542Z",
     "shell.execute_reply.started": "2025-07-31T19:26:52.644041Z"
    }
   },
   "outputs": [],
   "source": [
    "params = {'axes.labelsize': 28,\n",
    "          'font.size': 24,\n",
    "          'legend.fontsize': 14,\n",
    "          'xtick.major.width': 3,\n",
    "          'xtick.minor.width': 2,\n",
    "          'xtick.major.size': 12,\n",
    "          'xtick.minor.size': 6,\n",
    "          'xtick.direction': 'in',\n",
    "          'xtick.top': True,\n",
    "          'lines.linewidth': 3,\n",
    "          'axes.linewidth': 3,\n",
    "          'axes.labelweight': 3,\n",
    "          'axes.titleweight': 3,\n",
    "          'ytick.major.width': 3,\n",
    "          'ytick.minor.width': 2,\n",
    "          'ytick.major.size': 12,\n",
    "          'ytick.minor.size': 6,\n",
    "          'ytick.direction': 'in',\n",
    "          'ytick.right': True,\n",
    "          'figure.figsize': [8, 8],\n",
    "          'figure.facecolor': 'White'\n",
    "          }\n",
    "plt.rcParams.update(params)"
   ]
  },
  {
   "cell_type": "code",
   "execution_count": 50,
   "id": "5efce734-f68c-4d53-9f59-5894340e086c",
   "metadata": {
    "execution": {
     "iopub.execute_input": "2025-07-31T19:26:52.829817Z",
     "iopub.status.busy": "2025-07-31T19:26:52.829121Z",
     "iopub.status.idle": "2025-07-31T19:26:53.094456Z",
     "shell.execute_reply": "2025-07-31T19:26:53.093676Z",
     "shell.execute_reply.started": "2025-07-31T19:26:52.829784Z"
    }
   },
   "outputs": [],
   "source": [
    "butler = Butler('dp02', collections='2.2i/runs/DP0.2')"
   ]
  },
  {
   "cell_type": "code",
   "execution_count": 67,
   "id": "b261c0e2-99fe-4ecf-8efb-e2b8dd357791",
   "metadata": {
    "execution": {
     "iopub.execute_input": "2025-07-31T19:28:29.727350Z",
     "iopub.status.busy": "2025-07-31T19:28:29.726787Z",
     "iopub.status.idle": "2025-07-31T19:28:29.730256Z",
     "shell.execute_reply": "2025-07-31T19:28:29.729756Z",
     "shell.execute_reply.started": "2025-07-31T19:28:29.727326Z"
    }
   },
   "outputs": [],
   "source": [
    "ra = 60.2901612 \n",
    "dec = -44.3420602"
   ]
  },
  {
   "cell_type": "code",
   "execution_count": 68,
   "id": "1dae42fe-f864-4931-8ae6-b50a8de85e74",
   "metadata": {
    "execution": {
     "iopub.execute_input": "2025-07-31T19:28:29.904673Z",
     "iopub.status.busy": "2025-07-31T19:28:29.903996Z",
     "iopub.status.idle": "2025-07-31T19:29:40.447685Z",
     "shell.execute_reply": "2025-07-31T19:29:40.445403Z",
     "shell.execute_reply.started": "2025-07-31T19:28:29.904648Z"
    }
   },
   "outputs": [
    {
     "ename": "KeyboardInterrupt",
     "evalue": "",
     "output_type": "error",
     "traceback": [
      "\u001b[0;31m---------------------------------------------------------------------------\u001b[0m",
      "\u001b[0;31mKeyboardInterrupt\u001b[0m                         Traceback (most recent call last)",
      "Cell \u001b[0;32mIn[68], line 5\u001b[0m\n\u001b[1;32m      1\u001b[0m cutout_image_g, psf_g, tract_g, patch_g \u001b[38;5;241m=\u001b[39m cutout_coadd(butler, ra, dec, band\u001b[38;5;241m=\u001b[39m\u001b[38;5;124m'\u001b[39m\u001b[38;5;124mg\u001b[39m\u001b[38;5;124m'\u001b[39m,\n\u001b[1;32m      2\u001b[0m                               datasetType\u001b[38;5;241m=\u001b[39m\u001b[38;5;124m'\u001b[39m\u001b[38;5;124mdeepCoadd\u001b[39m\u001b[38;5;124m'\u001b[39m, cutoutSideLength\u001b[38;5;241m=\u001b[39m\u001b[38;5;241m121\u001b[39m)\n\u001b[1;32m      3\u001b[0m cutout_image_r, psf_r, tract_r, patch_r \u001b[38;5;241m=\u001b[39m cutout_coadd(butler, ra, dec, band\u001b[38;5;241m=\u001b[39m\u001b[38;5;124m'\u001b[39m\u001b[38;5;124mr\u001b[39m\u001b[38;5;124m'\u001b[39m,\n\u001b[1;32m      4\u001b[0m                               datasetType\u001b[38;5;241m=\u001b[39m\u001b[38;5;124m'\u001b[39m\u001b[38;5;124mdeepCoadd\u001b[39m\u001b[38;5;124m'\u001b[39m, cutoutSideLength\u001b[38;5;241m=\u001b[39m\u001b[38;5;241m121\u001b[39m)\n\u001b[0;32m----> 5\u001b[0m cutout_image_i, psf_i, tract_i, patch_i \u001b[38;5;241m=\u001b[39m \u001b[43mcutout_coadd\u001b[49m\u001b[43m(\u001b[49m\u001b[43mbutler\u001b[49m\u001b[43m,\u001b[49m\u001b[43m \u001b[49m\u001b[43mra\u001b[49m\u001b[43m,\u001b[49m\u001b[43m \u001b[49m\u001b[43mdec\u001b[49m\u001b[43m,\u001b[49m\u001b[43m \u001b[49m\u001b[43mband\u001b[49m\u001b[38;5;241;43m=\u001b[39;49m\u001b[38;5;124;43m'\u001b[39;49m\u001b[38;5;124;43mi\u001b[39;49m\u001b[38;5;124;43m'\u001b[39;49m\u001b[43m,\u001b[49m\n\u001b[1;32m      6\u001b[0m \u001b[43m                              \u001b[49m\u001b[43mdatasetType\u001b[49m\u001b[38;5;241;43m=\u001b[39;49m\u001b[38;5;124;43m'\u001b[39;49m\u001b[38;5;124;43mdeepCoadd\u001b[39;49m\u001b[38;5;124;43m'\u001b[39;49m\u001b[43m,\u001b[49m\u001b[43m \u001b[49m\u001b[43mcutoutSideLength\u001b[49m\u001b[38;5;241;43m=\u001b[39;49m\u001b[38;5;241;43m121\u001b[39;49m\u001b[43m)\u001b[49m\n\u001b[1;32m      7\u001b[0m coadds \u001b[38;5;241m=\u001b[39m [cutout_image_g, cutout_image_r, cutout_image_i]\n\u001b[1;32m      8\u001b[0m coadds \u001b[38;5;241m=\u001b[39m MultibandExposure\u001b[38;5;241m.\u001b[39mfromExposures([\u001b[38;5;124m'\u001b[39m\u001b[38;5;124mg\u001b[39m\u001b[38;5;124m'\u001b[39m, \u001b[38;5;124m'\u001b[39m\u001b[38;5;124mr\u001b[39m\u001b[38;5;124m'\u001b[39m, \u001b[38;5;124m'\u001b[39m\u001b[38;5;124mi\u001b[39m\u001b[38;5;124m'\u001b[39m], coadds)\n",
      "Cell \u001b[0;32mIn[46], line 45\u001b[0m, in \u001b[0;36mcutout_coadd\u001b[0;34m(butler, ra, dec, band, datasetType, skymap, cutoutSideLength, psf_size, **kwargs)\u001b[0m\n\u001b[1;32m     42\u001b[0m coaddId \u001b[38;5;241m=\u001b[39m {\u001b[38;5;124m'\u001b[39m\u001b[38;5;124mtract\u001b[39m\u001b[38;5;124m'\u001b[39m: tractInfo\u001b[38;5;241m.\u001b[39mgetId(), \u001b[38;5;124m'\u001b[39m\u001b[38;5;124mpatch\u001b[39m\u001b[38;5;124m'\u001b[39m: patch, \u001b[38;5;124m'\u001b[39m\u001b[38;5;124mband\u001b[39m\u001b[38;5;124m'\u001b[39m: band}\n\u001b[1;32m     43\u001b[0m parameters \u001b[38;5;241m=\u001b[39m {\u001b[38;5;124m'\u001b[39m\u001b[38;5;124mbbox\u001b[39m\u001b[38;5;124m'\u001b[39m: bbox}\n\u001b[0;32m---> 45\u001b[0m cutout_image \u001b[38;5;241m=\u001b[39m \u001b[43mbutler\u001b[49m\u001b[38;5;241;43m.\u001b[39;49m\u001b[43mget\u001b[49m\u001b[43m(\u001b[49m\u001b[43mdatasetType\u001b[49m\u001b[43m,\u001b[49m\u001b[43m \u001b[49m\u001b[43mparameters\u001b[49m\u001b[38;5;241;43m=\u001b[39;49m\u001b[43mparameters\u001b[49m\u001b[43m,\u001b[49m\n\u001b[1;32m     46\u001b[0m \u001b[43m                          \u001b[49m\u001b[43mdataId\u001b[49m\u001b[38;5;241;43m=\u001b[39;49m\u001b[43mcoaddId\u001b[49m\u001b[43m)\u001b[49m\n\u001b[1;32m     47\u001b[0m newWCS \u001b[38;5;241m=\u001b[39m cutout_image\u001b[38;5;241m.\u001b[39mgetWcs()\n\u001b[1;32m     48\u001b[0m anchor_image \u001b[38;5;241m=\u001b[39m butler\u001b[38;5;241m.\u001b[39mget(datasetType, \u001b[38;5;66;03m#parameters=parameters,\u001b[39;00m\n\u001b[1;32m     49\u001b[0m                           dataId\u001b[38;5;241m=\u001b[39mcoaddId)\u001b[38;5;66;03m#butler.get('deepCoadd_calexp', dataId=anchor_dataId)\u001b[39;00m\n",
      "File \u001b[0;32m/opt/lsst/software/stack/conda/envs/lsst-scipipe-10.0.0/share/eups/Linux64/daf_butler/g6dd59efbe6+dc2c386a65/python/lsst/daf/butler/remote_butler/_remote_butler.py:293\u001b[0m, in \u001b[0;36mRemoteButler.get\u001b[0;34m(self, datasetRefOrType, dataId, parameters, collections, storageClass, timespan, **kwargs)\u001b[0m\n\u001b[1;32m    290\u001b[0m         ref \u001b[38;5;241m=\u001b[39m ref\u001b[38;5;241m.\u001b[39mmakeComponentRef(componentOverride)\n\u001b[1;32m    291\u001b[0m ref \u001b[38;5;241m=\u001b[39m apply_storage_class_override(ref, datasetRefOrType, storageClass)\n\u001b[0;32m--> 293\u001b[0m \u001b[38;5;28;01mreturn\u001b[39;00m \u001b[38;5;28;43mself\u001b[39;49m\u001b[38;5;241;43m.\u001b[39;49m\u001b[43m_get_dataset_as_python_object\u001b[49m\u001b[43m(\u001b[49m\u001b[43mref\u001b[49m\u001b[43m,\u001b[49m\u001b[43m \u001b[49m\u001b[43mmodel\u001b[49m\u001b[43m,\u001b[49m\u001b[43m \u001b[49m\u001b[43mparameters\u001b[49m\u001b[43m)\u001b[49m\n",
      "File \u001b[0;32m/opt/lsst/software/stack/conda/envs/lsst-scipipe-10.0.0/share/eups/Linux64/daf_butler/g6dd59efbe6+dc2c386a65/python/lsst/daf/butler/remote_butler/_remote_butler.py:303\u001b[0m, in \u001b[0;36mRemoteButler._get_dataset_as_python_object\u001b[0;34m(self, ref, model, parameters)\u001b[0m\n\u001b[1;32m    295\u001b[0m \u001b[38;5;28;01mdef\u001b[39;00m\u001b[38;5;250m \u001b[39m\u001b[38;5;21m_get_dataset_as_python_object\u001b[39m(\n\u001b[1;32m    296\u001b[0m     \u001b[38;5;28mself\u001b[39m,\n\u001b[1;32m    297\u001b[0m     ref: DatasetRef,\n\u001b[0;32m   (...)\u001b[0m\n\u001b[1;32m    301\u001b[0m     \u001b[38;5;66;03m# This thin wrapper method is here to provide a place to hook in a mock\u001b[39;00m\n\u001b[1;32m    302\u001b[0m     \u001b[38;5;66;03m# mimicking DatastoreMock functionality for use in unit tests.\u001b[39;00m\n\u001b[0;32m--> 303\u001b[0m     \u001b[38;5;28;01mreturn\u001b[39;00m \u001b[43mget_dataset_as_python_object\u001b[49m\u001b[43m(\u001b[49m\n\u001b[1;32m    304\u001b[0m \u001b[43m        \u001b[49m\u001b[43mref\u001b[49m\u001b[43m,\u001b[49m\n\u001b[1;32m    305\u001b[0m \u001b[43m        \u001b[49m\u001b[43m_to_file_payload\u001b[49m\u001b[43m(\u001b[49m\u001b[43mmodel\u001b[49m\u001b[43m)\u001b[49m\u001b[43m,\u001b[49m\n\u001b[1;32m    306\u001b[0m \u001b[43m        \u001b[49m\u001b[43mparameters\u001b[49m\u001b[38;5;241;43m=\u001b[39;49m\u001b[43mparameters\u001b[49m\u001b[43m,\u001b[49m\n\u001b[1;32m    307\u001b[0m \u001b[43m        \u001b[49m\u001b[43mcache_manager\u001b[49m\u001b[38;5;241;43m=\u001b[39;49m\u001b[38;5;28;43mself\u001b[39;49m\u001b[38;5;241;43m.\u001b[39;49m\u001b[43m_cache_manager\u001b[49m\u001b[43m,\u001b[49m\n\u001b[1;32m    308\u001b[0m \u001b[43m    \u001b[49m\u001b[43m)\u001b[49m\n",
      "File \u001b[0;32m/opt/lsst/software/stack/conda/envs/lsst-scipipe-10.0.0/share/eups/Linux64/daf_butler/g6dd59efbe6+dc2c386a65/python/lsst/daf/butler/datastores/fileDatastoreClient.py:88\u001b[0m, in \u001b[0;36mget_dataset_as_python_object\u001b[0;34m(ref, payload, parameters, cache_manager)\u001b[0m\n\u001b[1;32m     86\u001b[0m \u001b[38;5;28;01mif\u001b[39;00m cache_manager \u001b[38;5;129;01mis\u001b[39;00m \u001b[38;5;28;01mNone\u001b[39;00m:\n\u001b[1;32m     87\u001b[0m     cache_manager \u001b[38;5;241m=\u001b[39m DatastoreDisabledCacheManager()\n\u001b[0;32m---> 88\u001b[0m \u001b[38;5;28;01mreturn\u001b[39;00m \u001b[43mget_dataset_as_python_object_from_get_info\u001b[49m\u001b[43m(\u001b[49m\n\u001b[1;32m     89\u001b[0m \u001b[43m    \u001b[49m\u001b[43mdatastore_file_info\u001b[49m\u001b[43m,\u001b[49m\u001b[43m \u001b[49m\u001b[43mref\u001b[49m\u001b[38;5;241;43m=\u001b[39;49m\u001b[43mref\u001b[49m\u001b[43m,\u001b[49m\u001b[43m \u001b[49m\u001b[43mparameters\u001b[49m\u001b[38;5;241;43m=\u001b[39;49m\u001b[43mparameters\u001b[49m\u001b[43m,\u001b[49m\u001b[43m \u001b[49m\u001b[43mcache_manager\u001b[49m\u001b[38;5;241;43m=\u001b[39;49m\u001b[43mcache_manager\u001b[49m\n\u001b[1;32m     90\u001b[0m \u001b[43m\u001b[49m\u001b[43m)\u001b[49m\n",
      "File \u001b[0;32m/opt/lsst/software/stack/conda/envs/lsst-scipipe-10.0.0/share/eups/Linux64/daf_butler/g6dd59efbe6+dc2c386a65/python/lsst/daf/butler/datastores/file_datastore/get.py:443\u001b[0m, in \u001b[0;36mget_dataset_as_python_object_from_get_info\u001b[0;34m(allGetInfo, ref, parameters, cache_manager)\u001b[0m\n\u001b[1;32m    436\u001b[0m \u001b[38;5;28;01melse\u001b[39;00m:\n\u001b[1;32m    437\u001b[0m     \u001b[38;5;66;03m# For an assembled composite this could be a derived\u001b[39;00m\n\u001b[1;32m    438\u001b[0m     \u001b[38;5;66;03m# component derived from a real component. The validity\u001b[39;00m\n\u001b[1;32m    439\u001b[0m     \u001b[38;5;66;03m# of the parameters is not clear. For now validate against\u001b[39;00m\n\u001b[1;32m    440\u001b[0m     \u001b[38;5;66;03m# the composite storage class\u001b[39;00m\n\u001b[1;32m    441\u001b[0m     getInfo\u001b[38;5;241m.\u001b[39mformatter\u001b[38;5;241m.\u001b[39mfile_descriptor\u001b[38;5;241m.\u001b[39mstorageClass\u001b[38;5;241m.\u001b[39mvalidateParameters(parameters)\n\u001b[0;32m--> 443\u001b[0m \u001b[38;5;28;01mreturn\u001b[39;00m \u001b[43m_read_artifact_into_memory\u001b[49m\u001b[43m(\u001b[49m\u001b[43mgetInfo\u001b[49m\u001b[43m,\u001b[49m\u001b[43m \u001b[49m\u001b[43mref\u001b[49m\u001b[43m,\u001b[49m\u001b[43m \u001b[49m\u001b[43mcache_manager\u001b[49m\u001b[43m,\u001b[49m\u001b[43m \u001b[49m\u001b[43misComponent\u001b[49m\u001b[38;5;241;43m=\u001b[39;49m\u001b[43misComponent\u001b[49m\u001b[43m)\u001b[49m\n",
      "File \u001b[0;32m/opt/lsst/software/stack/conda/envs/lsst-scipipe-10.0.0/share/eups/Linux64/daf_butler/g6dd59efbe6+dc2c386a65/python/lsst/daf/butler/datastores/file_datastore/get.py:220\u001b[0m, in \u001b[0;36m_read_artifact_into_memory\u001b[0;34m(getInfo, ref, cache_manager, isComponent)\u001b[0m\n\u001b[1;32m    217\u001b[0m \u001b[38;5;28;01massert\u001b[39;00m \u001b[38;5;28misinstance\u001b[39m(formatter, FormatterV2)\n\u001b[1;32m    219\u001b[0m \u001b[38;5;28;01mtry\u001b[39;00m:\n\u001b[0;32m--> 220\u001b[0m     result \u001b[38;5;241m=\u001b[39m \u001b[43mformatter\u001b[49m\u001b[38;5;241;43m.\u001b[39;49m\u001b[43mread\u001b[49m\u001b[43m(\u001b[49m\n\u001b[1;32m    221\u001b[0m \u001b[43m        \u001b[49m\u001b[43mcomponent\u001b[49m\u001b[38;5;241;43m=\u001b[39;49m\u001b[43mgetInfo\u001b[49m\u001b[38;5;241;43m.\u001b[39;49m\u001b[43mcomponent\u001b[49m\u001b[43m \u001b[49m\u001b[38;5;28;43;01mif\u001b[39;49;00m\u001b[43m \u001b[49m\u001b[43misComponent\u001b[49m\u001b[43m \u001b[49m\u001b[38;5;28;43;01melse\u001b[39;49;00m\u001b[43m \u001b[49m\u001b[38;5;28;43;01mNone\u001b[39;49;00m\u001b[43m,\u001b[49m\n\u001b[1;32m    222\u001b[0m \u001b[43m        \u001b[49m\u001b[43mexpected_size\u001b[49m\u001b[38;5;241;43m=\u001b[39;49m\u001b[43mrecorded_size\u001b[49m\u001b[43m,\u001b[49m\n\u001b[1;32m    223\u001b[0m \u001b[43m        \u001b[49m\u001b[43mcache_manager\u001b[49m\u001b[38;5;241;43m=\u001b[39;49m\u001b[43mcache_manager\u001b[49m\u001b[43m,\u001b[49m\n\u001b[1;32m    224\u001b[0m \u001b[43m    \u001b[49m\u001b[43m)\u001b[49m\n\u001b[1;32m    225\u001b[0m \u001b[38;5;28;01mexcept\u001b[39;00m (\u001b[38;5;167;01mFileNotFoundError\u001b[39;00m, FileIntegrityError):\n\u001b[1;32m    226\u001b[0m     \u001b[38;5;66;03m# This is expected for the case where the resource is missing\u001b[39;00m\n\u001b[1;32m    227\u001b[0m     \u001b[38;5;66;03m# or the information we passed to the formatter about the file size\u001b[39;00m\n\u001b[1;32m    228\u001b[0m     \u001b[38;5;66;03m# is incorrect.\u001b[39;00m\n\u001b[1;32m    229\u001b[0m     \u001b[38;5;66;03m# Allow them to propagate up.\u001b[39;00m\n\u001b[1;32m    230\u001b[0m     \u001b[38;5;28;01mraise\u001b[39;00m\n",
      "File \u001b[0;32m/opt/lsst/software/stack/conda/envs/lsst-scipipe-10.0.0/share/eups/Linux64/daf_butler/g6dd59efbe6+dc2c386a65/python/lsst/daf/butler/_formatter.py:515\u001b[0m, in \u001b[0;36mFormatterV2.read\u001b[0;34m(self, component, expected_size, cache_manager)\u001b[0m\n\u001b[1;32m    513\u001b[0m \u001b[38;5;66;03m# Finally, try to read the local file.\u001b[39;00m\n\u001b[1;32m    514\u001b[0m \u001b[38;5;28;01mif\u001b[39;00m \u001b[38;5;28mself\u001b[39m\u001b[38;5;241m.\u001b[39mcan_read_from_local_file \u001b[38;5;129;01mor\u001b[39;00m \u001b[38;5;28mself\u001b[39m\u001b[38;5;241m.\u001b[39mcan_read_from_uri:\n\u001b[0;32m--> 515\u001b[0m     result \u001b[38;5;241m=\u001b[39m \u001b[38;5;28;43mself\u001b[39;49m\u001b[38;5;241;43m.\u001b[39;49m\u001b[43mread_from_possibly_cached_local_file\u001b[49m\u001b[43m(\u001b[49m\n\u001b[1;32m    516\u001b[0m \u001b[43m        \u001b[49m\u001b[43mcomponent\u001b[49m\u001b[43m,\u001b[49m\u001b[43m \u001b[49m\u001b[43mexpected_size\u001b[49m\u001b[43m,\u001b[49m\u001b[43m \u001b[49m\u001b[43mcache_manager\u001b[49m\u001b[38;5;241;43m=\u001b[39;49m\u001b[43mcache_manager\u001b[49m\n\u001b[1;32m    517\u001b[0m \u001b[43m    \u001b[49m\u001b[43m)\u001b[49m\n\u001b[1;32m    518\u001b[0m     \u001b[38;5;28;01mif\u001b[39;00m result \u001b[38;5;129;01mis\u001b[39;00m \u001b[38;5;129;01mnot\u001b[39;00m \u001b[38;5;28mNotImplemented\u001b[39m:\n\u001b[1;32m    519\u001b[0m         \u001b[38;5;28;01mreturn\u001b[39;00m result\n",
      "File \u001b[0;32m/opt/lsst/software/stack/conda/envs/lsst-scipipe-10.0.0/share/eups/Linux64/daf_butler/g6dd59efbe6+dc2c386a65/python/lsst/daf/butler/_formatter.py:714\u001b[0m, in \u001b[0;36mFormatterV2.read_from_possibly_cached_local_file\u001b[0;34m(self, component, expected_size, cache_manager)\u001b[0m\n\u001b[1;32m    711\u001b[0m \u001b[38;5;28;01melse\u001b[39;00m:\n\u001b[1;32m    712\u001b[0m     msg \u001b[38;5;241m=\u001b[39m \u001b[38;5;124m\"\u001b[39m\u001b[38;5;124m\"\u001b[39m\n\u001b[0;32m--> 714\u001b[0m \u001b[43m\u001b[49m\u001b[38;5;28;43;01mwith\u001b[39;49;00m\u001b[43m \u001b[49m\u001b[43muri\u001b[49m\u001b[38;5;241;43m.\u001b[39;49m\u001b[43mas_local\u001b[49m\u001b[43m(\u001b[49m\u001b[43m)\u001b[49m\u001b[43m \u001b[49m\u001b[38;5;28;43;01mas\u001b[39;49;00m\u001b[43m \u001b[49m\u001b[43mlocal_uri\u001b[49m\u001b[43m:\u001b[49m\n\u001b[1;32m    715\u001b[0m \u001b[43m    \u001b[49m\u001b[38;5;28;43mself\u001b[39;49m\u001b[38;5;241;43m.\u001b[39;49m\u001b[43m_check_resource_size\u001b[49m\u001b[43m(\u001b[49m\u001b[38;5;28;43mself\u001b[39;49m\u001b[38;5;241;43m.\u001b[39;49m\u001b[43mfile_descriptor\u001b[49m\u001b[38;5;241;43m.\u001b[39;49m\u001b[43mlocation\u001b[49m\u001b[38;5;241;43m.\u001b[39;49m\u001b[43muri\u001b[49m\u001b[43m,\u001b[49m\u001b[43m \u001b[49m\u001b[43mexpected_size\u001b[49m\u001b[43m,\u001b[49m\u001b[43m \u001b[49m\u001b[43mlocal_uri\u001b[49m\u001b[38;5;241;43m.\u001b[39;49m\u001b[43msize\u001b[49m\u001b[43m(\u001b[49m\u001b[43m)\u001b[49m\u001b[43m)\u001b[49m\n\u001b[1;32m    716\u001b[0m \u001b[43m    \u001b[49m\u001b[43mcan_be_cached\u001b[49m\u001b[43m \u001b[49m\u001b[38;5;241;43m=\u001b[39;49m\u001b[43m \u001b[49m\u001b[38;5;28;43;01mFalse\u001b[39;49;00m\n",
      "File \u001b[0;32m/opt/lsst/software/stack/conda/envs/lsst-scipipe-10.0.0/lib/python3.12/contextlib.py:137\u001b[0m, in \u001b[0;36m_GeneratorContextManager.__enter__\u001b[0;34m(self)\u001b[0m\n\u001b[1;32m    135\u001b[0m \u001b[38;5;28;01mdel\u001b[39;00m \u001b[38;5;28mself\u001b[39m\u001b[38;5;241m.\u001b[39margs, \u001b[38;5;28mself\u001b[39m\u001b[38;5;241m.\u001b[39mkwds, \u001b[38;5;28mself\u001b[39m\u001b[38;5;241m.\u001b[39mfunc\n\u001b[1;32m    136\u001b[0m \u001b[38;5;28;01mtry\u001b[39;00m:\n\u001b[0;32m--> 137\u001b[0m     \u001b[38;5;28;01mreturn\u001b[39;00m \u001b[38;5;28;43mnext\u001b[39;49m\u001b[43m(\u001b[49m\u001b[38;5;28;43mself\u001b[39;49m\u001b[38;5;241;43m.\u001b[39;49m\u001b[43mgen\u001b[49m\u001b[43m)\u001b[49m\n\u001b[1;32m    138\u001b[0m \u001b[38;5;28;01mexcept\u001b[39;00m \u001b[38;5;167;01mStopIteration\u001b[39;00m:\n\u001b[1;32m    139\u001b[0m     \u001b[38;5;28;01mraise\u001b[39;00m \u001b[38;5;167;01mRuntimeError\u001b[39;00m(\u001b[38;5;124m\"\u001b[39m\u001b[38;5;124mgenerator didn\u001b[39m\u001b[38;5;124m'\u001b[39m\u001b[38;5;124mt yield\u001b[39m\u001b[38;5;124m\"\u001b[39m) \u001b[38;5;28;01mfrom\u001b[39;00m\u001b[38;5;250m \u001b[39m\u001b[38;5;28;01mNone\u001b[39;00m\n",
      "File \u001b[0;32m/opt/lsst/software/stack/conda/envs/lsst-scipipe-10.0.0/share/eups/Linux64/resources/gdd63cb302e+50e2446c94/python/lsst/resources/_resourcePath.py:1333\u001b[0m, in \u001b[0;36mResourcePath.as_local\u001b[0;34m(self, multithreaded, tmpdir)\u001b[0m\n\u001b[1;32m   1331\u001b[0m \u001b[38;5;28;01mif\u001b[39;00m temp_dir \u001b[38;5;129;01mis\u001b[39;00m \u001b[38;5;129;01mnot\u001b[39;00m \u001b[38;5;28;01mNone\u001b[39;00m \u001b[38;5;129;01mand\u001b[39;00m \u001b[38;5;129;01mnot\u001b[39;00m temp_dir\u001b[38;5;241m.\u001b[39misLocal:\n\u001b[1;32m   1332\u001b[0m     \u001b[38;5;28;01mraise\u001b[39;00m \u001b[38;5;167;01mValueError\u001b[39;00m(\u001b[38;5;124mf\u001b[39m\u001b[38;5;124m\"\u001b[39m\u001b[38;5;124mTemporary directory for as_local must be local resource not \u001b[39m\u001b[38;5;132;01m{\u001b[39;00mtemp_dir\u001b[38;5;132;01m}\u001b[39;00m\u001b[38;5;124m\"\u001b[39m)\n\u001b[0;32m-> 1333\u001b[0m local_src, is_temporary \u001b[38;5;241m=\u001b[39m \u001b[38;5;28;43mself\u001b[39;49m\u001b[38;5;241;43m.\u001b[39;49m\u001b[43m_as_local\u001b[49m\u001b[43m(\u001b[49m\u001b[43mmultithreaded\u001b[49m\u001b[38;5;241;43m=\u001b[39;49m\u001b[43mmultithreaded\u001b[49m\u001b[43m,\u001b[49m\u001b[43m \u001b[49m\u001b[43mtmpdir\u001b[49m\u001b[38;5;241;43m=\u001b[39;49m\u001b[43mtemp_dir\u001b[49m\u001b[43m)\u001b[49m\n\u001b[1;32m   1334\u001b[0m local_uri \u001b[38;5;241m=\u001b[39m ResourcePath(local_src, isTemporary\u001b[38;5;241m=\u001b[39mis_temporary)\n\u001b[1;32m   1336\u001b[0m \u001b[38;5;28;01mtry\u001b[39;00m:\n",
      "File \u001b[0;32m/opt/lsst/software/stack/conda/envs/lsst-scipipe-10.0.0/share/eups/Linux64/resources/gdd63cb302e+50e2446c94/python/lsst/resources/http.py:1560\u001b[0m, in \u001b[0;36mHttpResourcePath._as_local\u001b[0;34m(self, multithreaded, tmpdir)\u001b[0m\n\u001b[1;32m   1556\u001b[0m \u001b[38;5;66;03m# Use the session as a context manager to ensure that connections\u001b[39;00m\n\u001b[1;32m   1557\u001b[0m \u001b[38;5;66;03m# to both the front end and back end servers are closed after the\u001b[39;00m\n\u001b[1;32m   1558\u001b[0m \u001b[38;5;66;03m# download operation is finished.\u001b[39;00m\n\u001b[1;32m   1559\u001b[0m \u001b[38;5;28;01mwith\u001b[39;00m \u001b[38;5;28mself\u001b[39m\u001b[38;5;241m.\u001b[39mdata_session \u001b[38;5;28;01mas\u001b[39;00m session:\n\u001b[0;32m-> 1560\u001b[0m     resp \u001b[38;5;241m=\u001b[39m \u001b[43msession\u001b[49m\u001b[38;5;241;43m.\u001b[39;49m\u001b[43mget\u001b[49m\u001b[43m(\u001b[49m\u001b[38;5;28;43mself\u001b[39;49m\u001b[38;5;241;43m.\u001b[39;49m\u001b[43mgeturl\u001b[49m\u001b[43m(\u001b[49m\u001b[43m)\u001b[49m\u001b[43m,\u001b[49m\u001b[43m \u001b[49m\u001b[43mstream\u001b[49m\u001b[38;5;241;43m=\u001b[39;49m\u001b[38;5;28;43;01mTrue\u001b[39;49;00m\u001b[43m,\u001b[49m\u001b[43m \u001b[49m\u001b[43mtimeout\u001b[49m\u001b[38;5;241;43m=\u001b[39;49m\u001b[38;5;28;43mself\u001b[39;49m\u001b[38;5;241;43m.\u001b[39;49m\u001b[43m_config\u001b[49m\u001b[38;5;241;43m.\u001b[39;49m\u001b[43mtimeout\u001b[49m\u001b[43m)\u001b[49m\n\u001b[1;32m   1561\u001b[0m     \u001b[38;5;28;01mif\u001b[39;00m resp\u001b[38;5;241m.\u001b[39mstatus_code \u001b[38;5;241m!=\u001b[39m requests\u001b[38;5;241m.\u001b[39mcodes\u001b[38;5;241m.\u001b[39mok:\n\u001b[1;32m   1562\u001b[0m         \u001b[38;5;28;01mraise\u001b[39;00m \u001b[38;5;167;01mFileNotFoundError\u001b[39;00m(\n\u001b[1;32m   1563\u001b[0m             \u001b[38;5;124mf\u001b[39m\u001b[38;5;124m\"\u001b[39m\u001b[38;5;124mUnable to download resource \u001b[39m\u001b[38;5;132;01m{\u001b[39;00m\u001b[38;5;28mself\u001b[39m\u001b[38;5;132;01m}\u001b[39;00m\u001b[38;5;124m; status: \u001b[39m\u001b[38;5;132;01m{\u001b[39;00mresp\u001b[38;5;241m.\u001b[39mstatus_code\u001b[38;5;132;01m}\u001b[39;00m\u001b[38;5;124m \u001b[39m\u001b[38;5;132;01m{\u001b[39;00mresp\u001b[38;5;241m.\u001b[39mreason\u001b[38;5;132;01m}\u001b[39;00m\u001b[38;5;124m\"\u001b[39m\n\u001b[1;32m   1564\u001b[0m         )\n",
      "File \u001b[0;32m/opt/lsst/software/stack/conda/envs/lsst-scipipe-10.0.0/share/eups/Linux64/resources/gdd63cb302e+50e2446c94/python/lsst/resources/http.py:2283\u001b[0m, in \u001b[0;36m_SessionWrapper.get\u001b[0;34m(self, url, timeout, allow_redirects, stream, headers)\u001b[0m\n\u001b[1;32m   2274\u001b[0m \u001b[38;5;28;01mdef\u001b[39;00m\u001b[38;5;250m \u001b[39m\u001b[38;5;21mget\u001b[39m(\n\u001b[1;32m   2275\u001b[0m     \u001b[38;5;28mself\u001b[39m,\n\u001b[1;32m   2276\u001b[0m     url: \u001b[38;5;28mstr\u001b[39m,\n\u001b[0;32m   (...)\u001b[0m\n\u001b[1;32m   2281\u001b[0m     headers: \u001b[38;5;28mdict\u001b[39m[\u001b[38;5;28mstr\u001b[39m, \u001b[38;5;28mstr\u001b[39m] \u001b[38;5;241m|\u001b[39m \u001b[38;5;28;01mNone\u001b[39;00m \u001b[38;5;241m=\u001b[39m \u001b[38;5;28;01mNone\u001b[39;00m,\n\u001b[1;32m   2282\u001b[0m ) \u001b[38;5;241m-\u001b[39m\u001b[38;5;241m>\u001b[39m requests\u001b[38;5;241m.\u001b[39mResponse:\n\u001b[0;32m-> 2283\u001b[0m     \u001b[38;5;28;01mreturn\u001b[39;00m \u001b[38;5;28;43mself\u001b[39;49m\u001b[38;5;241;43m.\u001b[39;49m\u001b[43m_session\u001b[49m\u001b[38;5;241;43m.\u001b[39;49m\u001b[43mget\u001b[49m\u001b[43m(\u001b[49m\n\u001b[1;32m   2284\u001b[0m \u001b[43m        \u001b[49m\u001b[43murl\u001b[49m\u001b[43m,\u001b[49m\n\u001b[1;32m   2285\u001b[0m \u001b[43m        \u001b[49m\u001b[43mtimeout\u001b[49m\u001b[38;5;241;43m=\u001b[39;49m\u001b[43mtimeout\u001b[49m\u001b[43m,\u001b[49m\n\u001b[1;32m   2286\u001b[0m \u001b[43m        \u001b[49m\u001b[43mallow_redirects\u001b[49m\u001b[38;5;241;43m=\u001b[39;49m\u001b[43mallow_redirects\u001b[49m\u001b[43m,\u001b[49m\n\u001b[1;32m   2287\u001b[0m \u001b[43m        \u001b[49m\u001b[43mstream\u001b[49m\u001b[38;5;241;43m=\u001b[39;49m\u001b[43mstream\u001b[49m\u001b[43m,\u001b[49m\n\u001b[1;32m   2288\u001b[0m \u001b[43m        \u001b[49m\u001b[43mheaders\u001b[49m\u001b[38;5;241;43m=\u001b[39;49m\u001b[38;5;28;43mself\u001b[39;49m\u001b[38;5;241;43m.\u001b[39;49m\u001b[43m_augment_headers\u001b[49m\u001b[43m(\u001b[49m\u001b[43mheaders\u001b[49m\u001b[43m)\u001b[49m\u001b[43m,\u001b[49m\n\u001b[1;32m   2289\u001b[0m \u001b[43m    \u001b[49m\u001b[43m)\u001b[49m\n",
      "File \u001b[0;32m/opt/lsst/software/stack/conda/envs/lsst-scipipe-10.0.0/lib/python3.12/site-packages/requests/sessions.py:602\u001b[0m, in \u001b[0;36mSession.get\u001b[0;34m(self, url, **kwargs)\u001b[0m\n\u001b[1;32m    594\u001b[0m \u001b[38;5;250m\u001b[39m\u001b[38;5;124mr\u001b[39m\u001b[38;5;124;03m\"\"\"Sends a GET request. Returns :class:`Response` object.\u001b[39;00m\n\u001b[1;32m    595\u001b[0m \n\u001b[1;32m    596\u001b[0m \u001b[38;5;124;03m:param url: URL for the new :class:`Request` object.\u001b[39;00m\n\u001b[1;32m    597\u001b[0m \u001b[38;5;124;03m:param \\*\\*kwargs: Optional arguments that ``request`` takes.\u001b[39;00m\n\u001b[1;32m    598\u001b[0m \u001b[38;5;124;03m:rtype: requests.Response\u001b[39;00m\n\u001b[1;32m    599\u001b[0m \u001b[38;5;124;03m\"\"\"\u001b[39;00m\n\u001b[1;32m    601\u001b[0m kwargs\u001b[38;5;241m.\u001b[39msetdefault(\u001b[38;5;124m\"\u001b[39m\u001b[38;5;124mallow_redirects\u001b[39m\u001b[38;5;124m\"\u001b[39m, \u001b[38;5;28;01mTrue\u001b[39;00m)\n\u001b[0;32m--> 602\u001b[0m \u001b[38;5;28;01mreturn\u001b[39;00m \u001b[38;5;28;43mself\u001b[39;49m\u001b[38;5;241;43m.\u001b[39;49m\u001b[43mrequest\u001b[49m\u001b[43m(\u001b[49m\u001b[38;5;124;43m\"\u001b[39;49m\u001b[38;5;124;43mGET\u001b[39;49m\u001b[38;5;124;43m\"\u001b[39;49m\u001b[43m,\u001b[49m\u001b[43m \u001b[49m\u001b[43murl\u001b[49m\u001b[43m,\u001b[49m\u001b[43m \u001b[49m\u001b[38;5;241;43m*\u001b[39;49m\u001b[38;5;241;43m*\u001b[39;49m\u001b[43mkwargs\u001b[49m\u001b[43m)\u001b[49m\n",
      "File \u001b[0;32m/opt/lsst/software/stack/conda/envs/lsst-scipipe-10.0.0/lib/python3.12/site-packages/requests/sessions.py:589\u001b[0m, in \u001b[0;36mSession.request\u001b[0;34m(self, method, url, params, data, headers, cookies, files, auth, timeout, allow_redirects, proxies, hooks, stream, verify, cert, json)\u001b[0m\n\u001b[1;32m    584\u001b[0m send_kwargs \u001b[38;5;241m=\u001b[39m {\n\u001b[1;32m    585\u001b[0m     \u001b[38;5;124m\"\u001b[39m\u001b[38;5;124mtimeout\u001b[39m\u001b[38;5;124m\"\u001b[39m: timeout,\n\u001b[1;32m    586\u001b[0m     \u001b[38;5;124m\"\u001b[39m\u001b[38;5;124mallow_redirects\u001b[39m\u001b[38;5;124m\"\u001b[39m: allow_redirects,\n\u001b[1;32m    587\u001b[0m }\n\u001b[1;32m    588\u001b[0m send_kwargs\u001b[38;5;241m.\u001b[39mupdate(settings)\n\u001b[0;32m--> 589\u001b[0m resp \u001b[38;5;241m=\u001b[39m \u001b[38;5;28;43mself\u001b[39;49m\u001b[38;5;241;43m.\u001b[39;49m\u001b[43msend\u001b[49m\u001b[43m(\u001b[49m\u001b[43mprep\u001b[49m\u001b[43m,\u001b[49m\u001b[43m \u001b[49m\u001b[38;5;241;43m*\u001b[39;49m\u001b[38;5;241;43m*\u001b[39;49m\u001b[43msend_kwargs\u001b[49m\u001b[43m)\u001b[49m\n\u001b[1;32m    591\u001b[0m \u001b[38;5;28;01mreturn\u001b[39;00m resp\n",
      "File \u001b[0;32m/opt/lsst/software/stack/conda/envs/lsst-scipipe-10.0.0/lib/python3.12/site-packages/requests/sessions.py:703\u001b[0m, in \u001b[0;36mSession.send\u001b[0;34m(self, request, **kwargs)\u001b[0m\n\u001b[1;32m    700\u001b[0m start \u001b[38;5;241m=\u001b[39m preferred_clock()\n\u001b[1;32m    702\u001b[0m \u001b[38;5;66;03m# Send the request\u001b[39;00m\n\u001b[0;32m--> 703\u001b[0m r \u001b[38;5;241m=\u001b[39m \u001b[43madapter\u001b[49m\u001b[38;5;241;43m.\u001b[39;49m\u001b[43msend\u001b[49m\u001b[43m(\u001b[49m\u001b[43mrequest\u001b[49m\u001b[43m,\u001b[49m\u001b[43m \u001b[49m\u001b[38;5;241;43m*\u001b[39;49m\u001b[38;5;241;43m*\u001b[39;49m\u001b[43mkwargs\u001b[49m\u001b[43m)\u001b[49m\n\u001b[1;32m    705\u001b[0m \u001b[38;5;66;03m# Total elapsed time of the request (approximately)\u001b[39;00m\n\u001b[1;32m    706\u001b[0m elapsed \u001b[38;5;241m=\u001b[39m preferred_clock() \u001b[38;5;241m-\u001b[39m start\n",
      "File \u001b[0;32m/opt/lsst/software/stack/conda/envs/lsst-scipipe-10.0.0/lib/python3.12/site-packages/requests/adapters.py:667\u001b[0m, in \u001b[0;36mHTTPAdapter.send\u001b[0;34m(self, request, stream, timeout, verify, cert, proxies)\u001b[0m\n\u001b[1;32m    664\u001b[0m     timeout \u001b[38;5;241m=\u001b[39m TimeoutSauce(connect\u001b[38;5;241m=\u001b[39mtimeout, read\u001b[38;5;241m=\u001b[39mtimeout)\n\u001b[1;32m    666\u001b[0m \u001b[38;5;28;01mtry\u001b[39;00m:\n\u001b[0;32m--> 667\u001b[0m     resp \u001b[38;5;241m=\u001b[39m \u001b[43mconn\u001b[49m\u001b[38;5;241;43m.\u001b[39;49m\u001b[43murlopen\u001b[49m\u001b[43m(\u001b[49m\n\u001b[1;32m    668\u001b[0m \u001b[43m        \u001b[49m\u001b[43mmethod\u001b[49m\u001b[38;5;241;43m=\u001b[39;49m\u001b[43mrequest\u001b[49m\u001b[38;5;241;43m.\u001b[39;49m\u001b[43mmethod\u001b[49m\u001b[43m,\u001b[49m\n\u001b[1;32m    669\u001b[0m \u001b[43m        \u001b[49m\u001b[43murl\u001b[49m\u001b[38;5;241;43m=\u001b[39;49m\u001b[43murl\u001b[49m\u001b[43m,\u001b[49m\n\u001b[1;32m    670\u001b[0m \u001b[43m        \u001b[49m\u001b[43mbody\u001b[49m\u001b[38;5;241;43m=\u001b[39;49m\u001b[43mrequest\u001b[49m\u001b[38;5;241;43m.\u001b[39;49m\u001b[43mbody\u001b[49m\u001b[43m,\u001b[49m\n\u001b[1;32m    671\u001b[0m \u001b[43m        \u001b[49m\u001b[43mheaders\u001b[49m\u001b[38;5;241;43m=\u001b[39;49m\u001b[43mrequest\u001b[49m\u001b[38;5;241;43m.\u001b[39;49m\u001b[43mheaders\u001b[49m\u001b[43m,\u001b[49m\n\u001b[1;32m    672\u001b[0m \u001b[43m        \u001b[49m\u001b[43mredirect\u001b[49m\u001b[38;5;241;43m=\u001b[39;49m\u001b[38;5;28;43;01mFalse\u001b[39;49;00m\u001b[43m,\u001b[49m\n\u001b[1;32m    673\u001b[0m \u001b[43m        \u001b[49m\u001b[43massert_same_host\u001b[49m\u001b[38;5;241;43m=\u001b[39;49m\u001b[38;5;28;43;01mFalse\u001b[39;49;00m\u001b[43m,\u001b[49m\n\u001b[1;32m    674\u001b[0m \u001b[43m        \u001b[49m\u001b[43mpreload_content\u001b[49m\u001b[38;5;241;43m=\u001b[39;49m\u001b[38;5;28;43;01mFalse\u001b[39;49;00m\u001b[43m,\u001b[49m\n\u001b[1;32m    675\u001b[0m \u001b[43m        \u001b[49m\u001b[43mdecode_content\u001b[49m\u001b[38;5;241;43m=\u001b[39;49m\u001b[38;5;28;43;01mFalse\u001b[39;49;00m\u001b[43m,\u001b[49m\n\u001b[1;32m    676\u001b[0m \u001b[43m        \u001b[49m\u001b[43mretries\u001b[49m\u001b[38;5;241;43m=\u001b[39;49m\u001b[38;5;28;43mself\u001b[39;49m\u001b[38;5;241;43m.\u001b[39;49m\u001b[43mmax_retries\u001b[49m\u001b[43m,\u001b[49m\n\u001b[1;32m    677\u001b[0m \u001b[43m        \u001b[49m\u001b[43mtimeout\u001b[49m\u001b[38;5;241;43m=\u001b[39;49m\u001b[43mtimeout\u001b[49m\u001b[43m,\u001b[49m\n\u001b[1;32m    678\u001b[0m \u001b[43m        \u001b[49m\u001b[43mchunked\u001b[49m\u001b[38;5;241;43m=\u001b[39;49m\u001b[43mchunked\u001b[49m\u001b[43m,\u001b[49m\n\u001b[1;32m    679\u001b[0m \u001b[43m    \u001b[49m\u001b[43m)\u001b[49m\n\u001b[1;32m    681\u001b[0m \u001b[38;5;28;01mexcept\u001b[39;00m (ProtocolError, \u001b[38;5;167;01mOSError\u001b[39;00m) \u001b[38;5;28;01mas\u001b[39;00m err:\n\u001b[1;32m    682\u001b[0m     \u001b[38;5;28;01mraise\u001b[39;00m \u001b[38;5;167;01mConnectionError\u001b[39;00m(err, request\u001b[38;5;241m=\u001b[39mrequest)\n",
      "File \u001b[0;32m/opt/lsst/software/stack/conda/envs/lsst-scipipe-10.0.0/lib/python3.12/site-packages/urllib3/connectionpool.py:787\u001b[0m, in \u001b[0;36mHTTPConnectionPool.urlopen\u001b[0;34m(self, method, url, body, headers, retries, redirect, assert_same_host, timeout, pool_timeout, release_conn, chunked, body_pos, preload_content, decode_content, **response_kw)\u001b[0m\n\u001b[1;32m    784\u001b[0m response_conn \u001b[38;5;241m=\u001b[39m conn \u001b[38;5;28;01mif\u001b[39;00m \u001b[38;5;129;01mnot\u001b[39;00m release_conn \u001b[38;5;28;01melse\u001b[39;00m \u001b[38;5;28;01mNone\u001b[39;00m\n\u001b[1;32m    786\u001b[0m \u001b[38;5;66;03m# Make the request on the HTTPConnection object\u001b[39;00m\n\u001b[0;32m--> 787\u001b[0m response \u001b[38;5;241m=\u001b[39m \u001b[38;5;28;43mself\u001b[39;49m\u001b[38;5;241;43m.\u001b[39;49m\u001b[43m_make_request\u001b[49m\u001b[43m(\u001b[49m\n\u001b[1;32m    788\u001b[0m \u001b[43m    \u001b[49m\u001b[43mconn\u001b[49m\u001b[43m,\u001b[49m\n\u001b[1;32m    789\u001b[0m \u001b[43m    \u001b[49m\u001b[43mmethod\u001b[49m\u001b[43m,\u001b[49m\n\u001b[1;32m    790\u001b[0m \u001b[43m    \u001b[49m\u001b[43murl\u001b[49m\u001b[43m,\u001b[49m\n\u001b[1;32m    791\u001b[0m \u001b[43m    \u001b[49m\u001b[43mtimeout\u001b[49m\u001b[38;5;241;43m=\u001b[39;49m\u001b[43mtimeout_obj\u001b[49m\u001b[43m,\u001b[49m\n\u001b[1;32m    792\u001b[0m \u001b[43m    \u001b[49m\u001b[43mbody\u001b[49m\u001b[38;5;241;43m=\u001b[39;49m\u001b[43mbody\u001b[49m\u001b[43m,\u001b[49m\n\u001b[1;32m    793\u001b[0m \u001b[43m    \u001b[49m\u001b[43mheaders\u001b[49m\u001b[38;5;241;43m=\u001b[39;49m\u001b[43mheaders\u001b[49m\u001b[43m,\u001b[49m\n\u001b[1;32m    794\u001b[0m \u001b[43m    \u001b[49m\u001b[43mchunked\u001b[49m\u001b[38;5;241;43m=\u001b[39;49m\u001b[43mchunked\u001b[49m\u001b[43m,\u001b[49m\n\u001b[1;32m    795\u001b[0m \u001b[43m    \u001b[49m\u001b[43mretries\u001b[49m\u001b[38;5;241;43m=\u001b[39;49m\u001b[43mretries\u001b[49m\u001b[43m,\u001b[49m\n\u001b[1;32m    796\u001b[0m \u001b[43m    \u001b[49m\u001b[43mresponse_conn\u001b[49m\u001b[38;5;241;43m=\u001b[39;49m\u001b[43mresponse_conn\u001b[49m\u001b[43m,\u001b[49m\n\u001b[1;32m    797\u001b[0m \u001b[43m    \u001b[49m\u001b[43mpreload_content\u001b[49m\u001b[38;5;241;43m=\u001b[39;49m\u001b[43mpreload_content\u001b[49m\u001b[43m,\u001b[49m\n\u001b[1;32m    798\u001b[0m \u001b[43m    \u001b[49m\u001b[43mdecode_content\u001b[49m\u001b[38;5;241;43m=\u001b[39;49m\u001b[43mdecode_content\u001b[49m\u001b[43m,\u001b[49m\n\u001b[1;32m    799\u001b[0m \u001b[43m    \u001b[49m\u001b[38;5;241;43m*\u001b[39;49m\u001b[38;5;241;43m*\u001b[39;49m\u001b[43mresponse_kw\u001b[49m\u001b[43m,\u001b[49m\n\u001b[1;32m    800\u001b[0m \u001b[43m\u001b[49m\u001b[43m)\u001b[49m\n\u001b[1;32m    802\u001b[0m \u001b[38;5;66;03m# Everything went great!\u001b[39;00m\n\u001b[1;32m    803\u001b[0m clean_exit \u001b[38;5;241m=\u001b[39m \u001b[38;5;28;01mTrue\u001b[39;00m\n",
      "File \u001b[0;32m/opt/lsst/software/stack/conda/envs/lsst-scipipe-10.0.0/lib/python3.12/site-packages/urllib3/connectionpool.py:534\u001b[0m, in \u001b[0;36mHTTPConnectionPool._make_request\u001b[0;34m(self, conn, method, url, body, headers, retries, timeout, chunked, response_conn, preload_content, decode_content, enforce_content_length)\u001b[0m\n\u001b[1;32m    532\u001b[0m \u001b[38;5;66;03m# Receive the response from the server\u001b[39;00m\n\u001b[1;32m    533\u001b[0m \u001b[38;5;28;01mtry\u001b[39;00m:\n\u001b[0;32m--> 534\u001b[0m     response \u001b[38;5;241m=\u001b[39m \u001b[43mconn\u001b[49m\u001b[38;5;241;43m.\u001b[39;49m\u001b[43mgetresponse\u001b[49m\u001b[43m(\u001b[49m\u001b[43m)\u001b[49m\n\u001b[1;32m    535\u001b[0m \u001b[38;5;28;01mexcept\u001b[39;00m (BaseSSLError, \u001b[38;5;167;01mOSError\u001b[39;00m) \u001b[38;5;28;01mas\u001b[39;00m e:\n\u001b[1;32m    536\u001b[0m     \u001b[38;5;28mself\u001b[39m\u001b[38;5;241m.\u001b[39m_raise_timeout(err\u001b[38;5;241m=\u001b[39me, url\u001b[38;5;241m=\u001b[39murl, timeout_value\u001b[38;5;241m=\u001b[39mread_timeout)\n",
      "File \u001b[0;32m/opt/lsst/software/stack/conda/envs/lsst-scipipe-10.0.0/lib/python3.12/site-packages/urllib3/connection.py:565\u001b[0m, in \u001b[0;36mHTTPConnection.getresponse\u001b[0;34m(self)\u001b[0m\n\u001b[1;32m    562\u001b[0m _shutdown \u001b[38;5;241m=\u001b[39m \u001b[38;5;28mgetattr\u001b[39m(\u001b[38;5;28mself\u001b[39m\u001b[38;5;241m.\u001b[39msock, \u001b[38;5;124m\"\u001b[39m\u001b[38;5;124mshutdown\u001b[39m\u001b[38;5;124m\"\u001b[39m, \u001b[38;5;28;01mNone\u001b[39;00m)\n\u001b[1;32m    564\u001b[0m \u001b[38;5;66;03m# Get the response from http.client.HTTPConnection\u001b[39;00m\n\u001b[0;32m--> 565\u001b[0m httplib_response \u001b[38;5;241m=\u001b[39m \u001b[38;5;28;43msuper\u001b[39;49m\u001b[43m(\u001b[49m\u001b[43m)\u001b[49m\u001b[38;5;241;43m.\u001b[39;49m\u001b[43mgetresponse\u001b[49m\u001b[43m(\u001b[49m\u001b[43m)\u001b[49m\n\u001b[1;32m    567\u001b[0m \u001b[38;5;28;01mtry\u001b[39;00m:\n\u001b[1;32m    568\u001b[0m     assert_header_parsing(httplib_response\u001b[38;5;241m.\u001b[39mmsg)\n",
      "File \u001b[0;32m/opt/lsst/software/stack/conda/envs/lsst-scipipe-10.0.0/lib/python3.12/http/client.py:1430\u001b[0m, in \u001b[0;36mHTTPConnection.getresponse\u001b[0;34m(self)\u001b[0m\n\u001b[1;32m   1428\u001b[0m \u001b[38;5;28;01mtry\u001b[39;00m:\n\u001b[1;32m   1429\u001b[0m     \u001b[38;5;28;01mtry\u001b[39;00m:\n\u001b[0;32m-> 1430\u001b[0m         \u001b[43mresponse\u001b[49m\u001b[38;5;241;43m.\u001b[39;49m\u001b[43mbegin\u001b[49m\u001b[43m(\u001b[49m\u001b[43m)\u001b[49m\n\u001b[1;32m   1431\u001b[0m     \u001b[38;5;28;01mexcept\u001b[39;00m \u001b[38;5;167;01mConnectionError\u001b[39;00m:\n\u001b[1;32m   1432\u001b[0m         \u001b[38;5;28mself\u001b[39m\u001b[38;5;241m.\u001b[39mclose()\n",
      "File \u001b[0;32m/opt/lsst/software/stack/conda/envs/lsst-scipipe-10.0.0/lib/python3.12/http/client.py:331\u001b[0m, in \u001b[0;36mHTTPResponse.begin\u001b[0;34m(self)\u001b[0m\n\u001b[1;32m    329\u001b[0m \u001b[38;5;66;03m# read until we get a non-100 response\u001b[39;00m\n\u001b[1;32m    330\u001b[0m \u001b[38;5;28;01mwhile\u001b[39;00m \u001b[38;5;28;01mTrue\u001b[39;00m:\n\u001b[0;32m--> 331\u001b[0m     version, status, reason \u001b[38;5;241m=\u001b[39m \u001b[38;5;28;43mself\u001b[39;49m\u001b[38;5;241;43m.\u001b[39;49m\u001b[43m_read_status\u001b[49m\u001b[43m(\u001b[49m\u001b[43m)\u001b[49m\n\u001b[1;32m    332\u001b[0m     \u001b[38;5;28;01mif\u001b[39;00m status \u001b[38;5;241m!=\u001b[39m CONTINUE:\n\u001b[1;32m    333\u001b[0m         \u001b[38;5;28;01mbreak\u001b[39;00m\n",
      "File \u001b[0;32m/opt/lsst/software/stack/conda/envs/lsst-scipipe-10.0.0/lib/python3.12/http/client.py:292\u001b[0m, in \u001b[0;36mHTTPResponse._read_status\u001b[0;34m(self)\u001b[0m\n\u001b[1;32m    291\u001b[0m \u001b[38;5;28;01mdef\u001b[39;00m\u001b[38;5;250m \u001b[39m\u001b[38;5;21m_read_status\u001b[39m(\u001b[38;5;28mself\u001b[39m):\n\u001b[0;32m--> 292\u001b[0m     line \u001b[38;5;241m=\u001b[39m \u001b[38;5;28mstr\u001b[39m(\u001b[38;5;28;43mself\u001b[39;49m\u001b[38;5;241;43m.\u001b[39;49m\u001b[43mfp\u001b[49m\u001b[38;5;241;43m.\u001b[39;49m\u001b[43mreadline\u001b[49m\u001b[43m(\u001b[49m\u001b[43m_MAXLINE\u001b[49m\u001b[43m \u001b[49m\u001b[38;5;241;43m+\u001b[39;49m\u001b[43m \u001b[49m\u001b[38;5;241;43m1\u001b[39;49m\u001b[43m)\u001b[49m, \u001b[38;5;124m\"\u001b[39m\u001b[38;5;124miso-8859-1\u001b[39m\u001b[38;5;124m\"\u001b[39m)\n\u001b[1;32m    293\u001b[0m     \u001b[38;5;28;01mif\u001b[39;00m \u001b[38;5;28mlen\u001b[39m(line) \u001b[38;5;241m>\u001b[39m _MAXLINE:\n\u001b[1;32m    294\u001b[0m         \u001b[38;5;28;01mraise\u001b[39;00m LineTooLong(\u001b[38;5;124m\"\u001b[39m\u001b[38;5;124mstatus line\u001b[39m\u001b[38;5;124m\"\u001b[39m)\n",
      "File \u001b[0;32m/opt/lsst/software/stack/conda/envs/lsst-scipipe-10.0.0/lib/python3.12/socket.py:720\u001b[0m, in \u001b[0;36mSocketIO.readinto\u001b[0;34m(self, b)\u001b[0m\n\u001b[1;32m    718\u001b[0m \u001b[38;5;28;01mwhile\u001b[39;00m \u001b[38;5;28;01mTrue\u001b[39;00m:\n\u001b[1;32m    719\u001b[0m     \u001b[38;5;28;01mtry\u001b[39;00m:\n\u001b[0;32m--> 720\u001b[0m         \u001b[38;5;28;01mreturn\u001b[39;00m \u001b[38;5;28;43mself\u001b[39;49m\u001b[38;5;241;43m.\u001b[39;49m\u001b[43m_sock\u001b[49m\u001b[38;5;241;43m.\u001b[39;49m\u001b[43mrecv_into\u001b[49m\u001b[43m(\u001b[49m\u001b[43mb\u001b[49m\u001b[43m)\u001b[49m\n\u001b[1;32m    721\u001b[0m     \u001b[38;5;28;01mexcept\u001b[39;00m timeout:\n\u001b[1;32m    722\u001b[0m         \u001b[38;5;28mself\u001b[39m\u001b[38;5;241m.\u001b[39m_timeout_occurred \u001b[38;5;241m=\u001b[39m \u001b[38;5;28;01mTrue\u001b[39;00m\n",
      "File \u001b[0;32m/opt/lsst/software/stack/conda/envs/lsst-scipipe-10.0.0/lib/python3.12/ssl.py:1251\u001b[0m, in \u001b[0;36mSSLSocket.recv_into\u001b[0;34m(self, buffer, nbytes, flags)\u001b[0m\n\u001b[1;32m   1247\u001b[0m     \u001b[38;5;28;01mif\u001b[39;00m flags \u001b[38;5;241m!=\u001b[39m \u001b[38;5;241m0\u001b[39m:\n\u001b[1;32m   1248\u001b[0m         \u001b[38;5;28;01mraise\u001b[39;00m \u001b[38;5;167;01mValueError\u001b[39;00m(\n\u001b[1;32m   1249\u001b[0m           \u001b[38;5;124m\"\u001b[39m\u001b[38;5;124mnon-zero flags not allowed in calls to recv_into() on \u001b[39m\u001b[38;5;132;01m%s\u001b[39;00m\u001b[38;5;124m\"\u001b[39m \u001b[38;5;241m%\u001b[39m\n\u001b[1;32m   1250\u001b[0m           \u001b[38;5;28mself\u001b[39m\u001b[38;5;241m.\u001b[39m\u001b[38;5;18m__class__\u001b[39m)\n\u001b[0;32m-> 1251\u001b[0m     \u001b[38;5;28;01mreturn\u001b[39;00m \u001b[38;5;28;43mself\u001b[39;49m\u001b[38;5;241;43m.\u001b[39;49m\u001b[43mread\u001b[49m\u001b[43m(\u001b[49m\u001b[43mnbytes\u001b[49m\u001b[43m,\u001b[49m\u001b[43m \u001b[49m\u001b[43mbuffer\u001b[49m\u001b[43m)\u001b[49m\n\u001b[1;32m   1252\u001b[0m \u001b[38;5;28;01melse\u001b[39;00m:\n\u001b[1;32m   1253\u001b[0m     \u001b[38;5;28;01mreturn\u001b[39;00m \u001b[38;5;28msuper\u001b[39m()\u001b[38;5;241m.\u001b[39mrecv_into(buffer, nbytes, flags)\n",
      "File \u001b[0;32m/opt/lsst/software/stack/conda/envs/lsst-scipipe-10.0.0/lib/python3.12/ssl.py:1103\u001b[0m, in \u001b[0;36mSSLSocket.read\u001b[0;34m(self, len, buffer)\u001b[0m\n\u001b[1;32m   1101\u001b[0m \u001b[38;5;28;01mtry\u001b[39;00m:\n\u001b[1;32m   1102\u001b[0m     \u001b[38;5;28;01mif\u001b[39;00m buffer \u001b[38;5;129;01mis\u001b[39;00m \u001b[38;5;129;01mnot\u001b[39;00m \u001b[38;5;28;01mNone\u001b[39;00m:\n\u001b[0;32m-> 1103\u001b[0m         \u001b[38;5;28;01mreturn\u001b[39;00m \u001b[38;5;28;43mself\u001b[39;49m\u001b[38;5;241;43m.\u001b[39;49m\u001b[43m_sslobj\u001b[49m\u001b[38;5;241;43m.\u001b[39;49m\u001b[43mread\u001b[49m\u001b[43m(\u001b[49m\u001b[38;5;28;43mlen\u001b[39;49m\u001b[43m,\u001b[49m\u001b[43m \u001b[49m\u001b[43mbuffer\u001b[49m\u001b[43m)\u001b[49m\n\u001b[1;32m   1104\u001b[0m     \u001b[38;5;28;01melse\u001b[39;00m:\n\u001b[1;32m   1105\u001b[0m         \u001b[38;5;28;01mreturn\u001b[39;00m \u001b[38;5;28mself\u001b[39m\u001b[38;5;241m.\u001b[39m_sslobj\u001b[38;5;241m.\u001b[39mread(\u001b[38;5;28mlen\u001b[39m)\n",
      "\u001b[0;31mKeyboardInterrupt\u001b[0m: "
     ]
    }
   ],
   "source": [
    "cutout_image_g, psf_g, tract_g, patch_g = cutout_coadd(butler, ra, dec, band='g',\n",
    "                              datasetType='deepCoadd', cutoutSideLength=121)\n",
    "cutout_image_r, psf_r, tract_r, patch_r = cutout_coadd(butler, ra, dec, band='r',\n",
    "                              datasetType='deepCoadd', cutoutSideLength=121)\n",
    "cutout_image_i, psf_i, tract_i, patch_i = cutout_coadd(butler, ra, dec, band='i',\n",
    "                              datasetType='deepCoadd', cutoutSideLength=121)\n",
    "coadds = [cutout_image_g, cutout_image_r, cutout_image_i]\n",
    "coadds = MultibandExposure.fromExposures(['g', 'r', 'i'], coadds)\n",
    "\n",
    "im_arr = jnp.asarray([cutout_image_g.image.array,cutout_image_r.image.array,cutout_image_i.image.array])\n",
    "weight_arr = jnp.asarray([1/cutout_image_g.variance.array,1/cutout_image_r.variance.array,1/cutout_image_i.variance.array])\n",
    "psf_arr = jnp.stack((psf_g,psf_r,psf_i))\n",
    "\n"
   ]
  },
  {
   "cell_type": "code",
   "execution_count": null,
   "id": "fe871f8b-f206-4990-989e-5269773e3457",
   "metadata": {
    "execution": {
     "iopub.status.busy": "2025-07-31T19:29:40.448328Z",
     "iopub.status.idle": "2025-07-31T19:29:40.448610Z",
     "shell.execute_reply": "2025-07-31T19:29:40.448494Z",
     "shell.execute_reply.started": "2025-07-31T19:29:40.448482Z"
    }
   },
   "outputs": [],
   "source": [
    "filename = os.path.join(tempdir,'cutout_g.fits')\n",
    "cutout_image_g.writeFits(filename)\n",
    "f=fits.open(filename)\n",
    "wcs_g = WCS(f[1].header)\n",
    "filename = os.path.join(tempdir,'cutout_r.fits')\n",
    "cutout_image_r.writeFits(filename)\n",
    "f=fits.open(filename)\n",
    "wcs_r = WCS(f[1].header)\n",
    "filename = os.path.join(tempdir,'cutout_i.fits')\n",
    "cutout_image_g.writeFits(filename)\n",
    "f=fits.open(filename)\n",
    "wcs_i = WCS(f[1].header)"
   ]
  },
  {
   "cell_type": "code",
   "execution_count": null,
   "id": "f0a4817e-769d-41f3-9601-22f06d421605",
   "metadata": {
    "execution": {
     "iopub.status.busy": "2025-07-31T19:29:40.449741Z",
     "iopub.status.idle": "2025-07-31T19:29:40.450145Z",
     "shell.execute_reply": "2025-07-31T19:29:40.449970Z",
     "shell.execute_reply.started": "2025-07-31T19:29:40.449952Z"
    }
   },
   "outputs": [],
   "source": [
    "obs = scarlet2.Observation(im_arr,\n",
    "                           weights=weight_arr,\n",
    "                           psf=scarlet2.ArrayPSF(jnp.array(psf_arr)),\n",
    "                           wcs=wcs_r,\n",
    "                           channels=['g','r','i'])"
   ]
  },
  {
   "cell_type": "code",
   "execution_count": null,
   "id": "192beddf-3a92-471e-8981-7d938fe7ecfd",
   "metadata": {},
   "outputs": [],
   "source": [
    "norm = plot.AsinhAutomaticNorm(obs)\n",
    "scarlet2.plot.observation(obs, norm=norm, show_psf=True, add_labels=True)"
   ]
  },
  {
   "cell_type": "code",
   "execution_count": null,
   "id": "a0ca46ce-6ed4-4307-8f75-f11c6387085c",
   "metadata": {
    "execution": {
     "iopub.status.busy": "2025-07-31T19:29:40.451540Z",
     "iopub.status.idle": "2025-07-31T19:29:40.451957Z",
     "shell.execute_reply": "2025-07-31T19:29:40.451778Z",
     "shell.execute_reply.started": "2025-07-31T19:29:40.451760Z"
    }
   },
   "outputs": [],
   "source": [
    "model_psf = scarlet2.GaussianPSF(sigma=0.5)\n",
    "model_frame = scarlet2.Frame.from_observations(obs, model_psf=model_psf)"
   ]
  },
  {
   "cell_type": "code",
   "execution_count": null,
   "id": "bfcf1177-0ef7-4561-abb2-0a56057d378c",
   "metadata": {
    "execution": {
     "iopub.status.busy": "2025-07-31T19:29:40.453540Z",
     "iopub.status.idle": "2025-07-31T19:29:40.453840Z",
     "shell.execute_reply": "2025-07-31T19:29:40.453718Z",
     "shell.execute_reply.started": "2025-07-31T19:29:40.453707Z"
    }
   },
   "outputs": [],
   "source": [
    "wcs_g = cutout_image_g.getWcs()\n",
    "x0 = float(cutout_image_g.getX0())\n",
    "y0 = float(cutout_image_g.getY0())\n",
    "width = cutout_image_g.getWidth()\n",
    "height = cutout_image_g.getHeight()\n",
    "\n",
    "xcorners = [x0, x0+width, x0+width, x0]\n",
    "ycorners = [y0, y0, y0+width, y0+width]\n",
    "\n",
    "ra_corners = []\n",
    "dec_corners = []\n",
    "\n",
    "for i in range(len(xcorners)):\n",
    "    radec = wcs_g.pixelToSky(xcorners[i], ycorners[i])\n",
    "    ra_corners.append(radec.getRa().asDegrees())\n",
    "    dec_corners.append(radec.getDec().asDegrees())"
   ]
  },
  {
   "cell_type": "code",
   "execution_count": null,
   "id": "c3966e29-7b94-4075-ac09-5b9b5b1296ad",
   "metadata": {
    "execution": {
     "iopub.status.busy": "2025-07-31T19:29:40.454383Z",
     "iopub.status.idle": "2025-07-31T19:29:40.454640Z",
     "shell.execute_reply": "2025-07-31T19:29:40.454523Z",
     "shell.execute_reply.started": "2025-07-31T19:29:40.454514Z"
    }
   },
   "outputs": [],
   "source": [
    "service = get_tap_service(\"tap\")"
   ]
  },
  {
   "cell_type": "code",
   "execution_count": null,
   "id": "4c727e24-36ca-42fb-83ce-1afc32010837",
   "metadata": {
    "execution": {
     "iopub.status.busy": "2025-07-31T19:29:40.455711Z",
     "iopub.status.idle": "2025-07-31T19:29:40.455953Z",
     "shell.execute_reply": "2025-07-31T19:29:40.455849Z",
     "shell.execute_reply.started": "2025-07-31T19:29:40.455840Z"
    }
   },
   "outputs": [],
   "source": [
    "query = \"SELECT objectId, coord_ra, coord_dec, x, y, tract, patch \" + \\\n",
    "        \"FROM dp02_dc2_catalogs.Object \" + \\\n",
    "        \"WHERE CONTAINS(POINT('ICRS', coord_ra, coord_dec), \" +\\\n",
    "        \"POLYGON('ICRS', \" + str(ra_corners[0]) + \", \" + str(dec_corners[0]) + \", \" +\\\n",
    "        str(ra_corners[1]) + \", \" + str(dec_corners[1]) + \", \" +\\\n",
    "        str(ra_corners[2]) + \", \" + str(dec_corners[2]) + \", \" +\\\n",
    "        str(ra_corners[3]) + \", \" + str(dec_corners[3]) + \")) = 1 AND \" +\\\n",
    "        \"tract = \" + str(tract_g) + \" AND patch = \" + str(patch_g)\n",
    "print(query)"
   ]
  },
  {
   "cell_type": "code",
   "execution_count": null,
   "id": "8c216e6c-eede-4ef0-8f7b-51613c50ac0b",
   "metadata": {
    "execution": {
     "iopub.status.busy": "2025-07-31T19:29:40.457061Z",
     "iopub.status.idle": "2025-07-31T19:29:40.457310Z",
     "shell.execute_reply": "2025-07-31T19:29:40.457203Z",
     "shell.execute_reply.started": "2025-07-31T19:29:40.457193Z"
    }
   },
   "outputs": [],
   "source": [
    "job = service.submit_job(query)\n",
    "job.run()\n",
    "job.wait(phases=['COMPLETED', 'ERROR'])\n",
    "print('Job phase is', job.phase)"
   ]
  },
  {
   "cell_type": "code",
   "execution_count": null,
   "id": "c6704007-a051-45a1-bb8e-7f6a4dbbaae6",
   "metadata": {
    "execution": {
     "iopub.status.busy": "2025-07-31T19:29:40.457972Z",
     "iopub.status.idle": "2025-07-31T19:29:40.458194Z",
     "shell.execute_reply": "2025-07-31T19:29:40.458100Z",
     "shell.execute_reply.started": "2025-07-31T19:29:40.458091Z"
    }
   },
   "outputs": [],
   "source": [
    "results = job.fetch_result()\n",
    "print(len(results))\n",
    "source = results.to_table()\n",
    "coords = SkyCoord(ra=np.asarray(source['coord_ra'],dtype=float) * u.deg, dec=np.asarray(source['coord_dec'],dtype=float) * u.deg)"
   ]
  },
  {
   "cell_type": "code",
   "execution_count": null,
   "id": "3462f097-23e7-4ca4-bb89-999cd5e43cbf",
   "metadata": {
    "execution": {
     "iopub.status.busy": "2025-07-31T19:29:40.459110Z",
     "iopub.status.idle": "2025-07-31T19:29:40.459339Z",
     "shell.execute_reply": "2025-07-31T19:29:40.459240Z",
     "shell.execute_reply.started": "2025-07-31T19:29:40.459231Z"
    }
   },
   "outputs": [],
   "source": [
    "with scarlet2.Scene(model_frame) as scene:\n",
    "    for i, center in enumerate(coords):    \n",
    "        #Now initialize background sources that are static across epochs\n",
    "        try:\n",
    "            spectrum, morph = scarlet2.init.from_gaussian_moments(obs, center)\n",
    "            # If the boxes produced are too small, try adjusting the SNR or box_size arguments https://github.com/pmelchior/scarlet2/blob/8a7bf55f4908a402ba7e43b4b564886aa4ad2a4b/src/scarlet2/init.py#L205\n",
    "        except:# IndexError:\n",
    "            morph = scarlet2.init.compact_morphology()\n",
    "            spectrum = scarlet2.init.pixel_spectrum(obs, center)\n",
    "        spectrum = jnp.clip(spectrum,a_min=1e-6,a_max=1e6)\n",
    "        # the host is barely resolved and the data are noisy:\n",
    "        # use a starlet morphology for extra stability (esp to noise)\n",
    "        morph = scarlet2.StarletMorphology.from_image(morph)\n",
    "        # Select the transient-free epochs to initialize amplitudes for the static source\n",
    "        # These will be shared across all epochs\n",
    "        scarlet2.Source(\n",
    "            center, spectrum, morph\n",
    "        )\n",
    "       "
   ]
  },
  {
   "cell_type": "code",
   "execution_count": null,
   "id": "3d8b1636-dca0-47c8-9424-57b29d008079",
   "metadata": {
    "execution": {
     "iopub.status.busy": "2025-07-31T19:29:40.460007Z",
     "iopub.status.idle": "2025-07-31T19:29:40.460237Z",
     "shell.execute_reply": "2025-07-31T19:29:40.460142Z",
     "shell.execute_reply.started": "2025-07-31T19:29:40.460133Z"
    }
   },
   "outputs": [],
   "source": [
    "from numpyro.distributions import constraints\n",
    "\n",
    "morph_step = lambda p: scarlet2.relative_step(p, factor=1e-2)\n",
    "SED_step = lambda p: scarlet2.relative_step(p, factor=1e-2)\n",
    "\n",
    "parameters = scene.make_parameters()\n",
    "\n",
    "for i, center in enumerate(coords):\n",
    "        # galaxy parameters\n",
    "        parameters += scarlet2.Parameter(\n",
    "            scene.sources[i].spectrum, name=f\"spectrum.{i}\", constraint=constraints.positive, stepsize=SED_step\n",
    "        )\n",
    "        parameters += scarlet2.Parameter(\n",
    "            scene.sources[i].morphology.coeffs,\n",
    "            name=f\"morph.{i}\",\n",
    "            stepsize=morph_step,\n",
    "        )\n"
   ]
  },
  {
   "cell_type": "code",
   "execution_count": null,
   "id": "8e755a90-ba04-46fd-9a95-48dc8884845d",
   "metadata": {
    "execution": {
     "iopub.status.busy": "2025-07-31T19:29:40.461226Z",
     "iopub.status.idle": "2025-07-31T19:29:40.461479Z",
     "shell.execute_reply": "2025-07-31T19:29:40.461367Z",
     "shell.execute_reply.started": "2025-07-31T19:29:40.461358Z"
    }
   },
   "outputs": [],
   "source": [
    "scarlet2.plot.scene(\n",
    "    scene,\n",
    "    observation=obs,\n",
    "    norm=norm,\n",
    "    show_model=False,\n",
    "    show_observed=True,\n",
    "    show_rendered=True,\n",
    "    show_residual=True,\n",
    "    add_labels=False,\n",
    "    add_boxes=False,\n",
    "    split_channels=False,\n",
    "    box_kwargs={\"edgecolor\": \"red\", \"facecolor\": \"none\"},\n",
    "    label_kwargs={\"color\": \"red\"},\n",
    ")\n",
    "plt.show()"
   ]
  },
  {
   "cell_type": "code",
   "execution_count": 66,
   "id": "b253dde1-27d2-47b2-bc8c-699f23d6b883",
   "metadata": {
    "execution": {
     "iopub.execute_input": "2025-07-31T19:27:55.178065Z",
     "iopub.status.busy": "2025-07-31T19:27:55.177342Z",
     "iopub.status.idle": "2025-07-31T19:28:27.928734Z",
     "shell.execute_reply": "2025-07-31T19:28:27.927899Z",
     "shell.execute_reply.started": "2025-07-31T19:27:55.178038Z"
    }
   },
   "outputs": [
    {
     "ename": "KeyboardInterrupt",
     "evalue": "",
     "output_type": "error",
     "traceback": [
      "\u001b[0;31m---------------------------------------------------------------------------\u001b[0m",
      "\u001b[0;31mKeyboardInterrupt\u001b[0m                         Traceback (most recent call last)",
      "Cell \u001b[0;32mIn[66], line 3\u001b[0m\n\u001b[1;32m      1\u001b[0m \u001b[38;5;66;03m# Fit the scene\u001b[39;00m\n\u001b[1;32m      2\u001b[0m stepnum \u001b[38;5;241m=\u001b[39m \u001b[38;5;241m2000\u001b[39m\n\u001b[0;32m----> 3\u001b[0m scene_ \u001b[38;5;241m=\u001b[39m \u001b[43mscene\u001b[49m\u001b[38;5;241;43m.\u001b[39;49m\u001b[43mfit\u001b[49m\u001b[43m(\u001b[49m\u001b[43mobs\u001b[49m\u001b[43m,\u001b[49m\u001b[43m \u001b[49m\u001b[43mparameters\u001b[49m\u001b[43m,\u001b[49m\u001b[43m \u001b[49m\u001b[43mmax_iter\u001b[49m\u001b[38;5;241;43m=\u001b[39;49m\u001b[43mstepnum\u001b[49m\u001b[43m,\u001b[49m\u001b[43m \u001b[49m\u001b[43me_rel\u001b[49m\u001b[38;5;241;43m=\u001b[39;49m\u001b[38;5;241;43m1e-7\u001b[39;49m\u001b[43m,\u001b[49m\u001b[43m \u001b[49m\u001b[43mprogress_bar\u001b[49m\u001b[38;5;241;43m=\u001b[39;49m\u001b[38;5;28;43;01mFalse\u001b[39;49;00m\u001b[43m)\u001b[49m\n",
      "    \u001b[0;31m[... skipping hidden 1 frame]\u001b[0m\n",
      "File \u001b[0;32m~/.local/lib/python3.12/site-packages/scarlet2/scene.py:291\u001b[0m, in \u001b[0;36mScene.fit\u001b[0;34m(self, observations, parameters, schedule, max_iter, e_rel, progress_bar, callback, **kwargs)\u001b[0m\n\u001b[1;32m    288\u001b[0m \u001b[38;5;28;01mwith\u001b[39;00m trange(max_iter, disable\u001b[38;5;241m=\u001b[39m\u001b[38;5;129;01mnot\u001b[39;00m progress_bar) \u001b[38;5;28;01mas\u001b[39;00m t:\n\u001b[1;32m    289\u001b[0m     \u001b[38;5;28;01mfor\u001b[39;00m step \u001b[38;5;129;01min\u001b[39;00m t:\n\u001b[1;32m    290\u001b[0m         \u001b[38;5;66;03m# optimizer step\u001b[39;00m\n\u001b[0;32m--> 291\u001b[0m         scene, loss, opt_state, convergence \u001b[38;5;241m=\u001b[39m \u001b[43m_make_step\u001b[49m\u001b[43m(\u001b[49m\u001b[43mscene\u001b[49m\u001b[43m,\u001b[49m\u001b[43m \u001b[49m\u001b[43mobservations\u001b[49m\u001b[43m,\u001b[49m\u001b[43m \u001b[49m\u001b[43mparameters\u001b[49m\u001b[43m,\u001b[49m\u001b[43m \u001b[49m\u001b[43moptim\u001b[49m\u001b[43m,\u001b[49m\u001b[43m \u001b[49m\u001b[43mopt_state\u001b[49m\u001b[43m,\u001b[49m\n\u001b[1;32m    292\u001b[0m \u001b[43m                                                         \u001b[49m\u001b[43mfilter_spec\u001b[49m\u001b[38;5;241;43m=\u001b[39;49m\u001b[43mfilter_spec\u001b[49m\u001b[43m)\u001b[49m\n\u001b[1;32m    294\u001b[0m         \u001b[38;5;66;03m# compute max change across all non-fixed parameters for convergence test\u001b[39;00m\n\u001b[1;32m    295\u001b[0m         max_change \u001b[38;5;241m=\u001b[39m jax\u001b[38;5;241m.\u001b[39mtree_util\u001b[38;5;241m.\u001b[39mtree_reduce(\u001b[38;5;28;01mlambda\u001b[39;00m a, b: \u001b[38;5;28mmax\u001b[39m(a, b), convergence)\n",
      "    \u001b[0;31m[... skipping hidden 2 frame]\u001b[0m\n",
      "File \u001b[0;32m~/.local/lib/python3.12/site-packages/equinox/_jit.py:108\u001b[0m, in \u001b[0;36m_postprocess\u001b[0;34m(out)\u001b[0m\n\u001b[1;32m    106\u001b[0m \u001b[38;5;28;01mdef\u001b[39;00m\u001b[38;5;250m \u001b[39m\u001b[38;5;21m_postprocess\u001b[39m(out):\n\u001b[1;32m    107\u001b[0m     _, dynamic_out, static_out \u001b[38;5;241m=\u001b[39m out\n\u001b[0;32m--> 108\u001b[0m     \u001b[38;5;28;01mreturn\u001b[39;00m \u001b[43mcombine\u001b[49m\u001b[43m(\u001b[49m\u001b[43mdynamic_out\u001b[49m\u001b[43m,\u001b[49m\u001b[43m \u001b[49m\u001b[43mstatic_out\u001b[49m\u001b[38;5;241;43m.\u001b[39;49m\u001b[43mvalue\u001b[49m\u001b[43m)\u001b[49m\n",
      "File \u001b[0;32m~/.local/lib/python3.12/site-packages/equinox/_filters.py:207\u001b[0m, in \u001b[0;36mcombine\u001b[0;34m(is_leaf, *pytrees)\u001b[0m\n\u001b[1;32m    204\u001b[0m \u001b[38;5;28;01melse\u001b[39;00m:\n\u001b[1;32m    205\u001b[0m     _is_leaf \u001b[38;5;241m=\u001b[39m \u001b[38;5;28;01mlambda\u001b[39;00m x: _is_none(x) \u001b[38;5;129;01mor\u001b[39;00m is_leaf(x)\n\u001b[0;32m--> 207\u001b[0m \u001b[38;5;28;01mreturn\u001b[39;00m \u001b[43mjtu\u001b[49m\u001b[38;5;241;43m.\u001b[39;49m\u001b[43mtree_map\u001b[49m\u001b[43m(\u001b[49m\u001b[43m_combine\u001b[49m\u001b[43m,\u001b[49m\u001b[43m \u001b[49m\u001b[38;5;241;43m*\u001b[39;49m\u001b[43mpytrees\u001b[49m\u001b[43m,\u001b[49m\u001b[43m \u001b[49m\u001b[43mis_leaf\u001b[49m\u001b[38;5;241;43m=\u001b[39;49m\u001b[43m_is_leaf\u001b[49m\u001b[43m)\u001b[49m\n",
      "File \u001b[0;32m/opt/lsst/software/stack/conda/envs/lsst-scipipe-10.0.0/lib/python3.12/site-packages/jax/_src/tree_util.py:357\u001b[0m, in \u001b[0;36mtree_map\u001b[0;34m(f, tree, is_leaf, *rest)\u001b[0m\n\u001b[1;32m    355\u001b[0m \u001b[38;5;250m\u001b[39m\u001b[38;5;124;03m\"\"\"Alias of :func:`jax.tree.map`.\"\"\"\u001b[39;00m\n\u001b[1;32m    356\u001b[0m leaves, treedef \u001b[38;5;241m=\u001b[39m tree_flatten(tree, is_leaf)\n\u001b[0;32m--> 357\u001b[0m all_leaves \u001b[38;5;241m=\u001b[39m [leaves] \u001b[38;5;241m+\u001b[39m [\u001b[43mtreedef\u001b[49m\u001b[38;5;241;43m.\u001b[39;49m\u001b[43mflatten_up_to\u001b[49m\u001b[43m(\u001b[49m\u001b[43mr\u001b[49m\u001b[43m)\u001b[49m \u001b[38;5;28;01mfor\u001b[39;00m r \u001b[38;5;129;01min\u001b[39;00m rest]\n\u001b[1;32m    358\u001b[0m \u001b[38;5;28;01mreturn\u001b[39;00m treedef\u001b[38;5;241m.\u001b[39munflatten(f(\u001b[38;5;241m*\u001b[39mxs) \u001b[38;5;28;01mfor\u001b[39;00m xs \u001b[38;5;129;01min\u001b[39;00m \u001b[38;5;28mzip\u001b[39m(\u001b[38;5;241m*\u001b[39mall_leaves))\n",
      "File \u001b[0;32m~/.local/lib/python3.12/site-packages/equinox/_module.py:512\u001b[0m, in \u001b[0;36m_ActualModuleMeta.__new__.<locals>.flatten_module\u001b[0;34m(obj)\u001b[0m\n\u001b[1;32m    510\u001b[0m         \u001b[38;5;28;01mcontinue\u001b[39;00m\n\u001b[1;32m    511\u001b[0m     dynamic_fs\u001b[38;5;241m.\u001b[39mappend(k)\n\u001b[0;32m--> 512\u001b[0m     dynamic_vs\u001b[38;5;241m.\u001b[39mappend(v)\n\u001b[1;32m    514\u001b[0m aux \u001b[38;5;241m=\u001b[39m _FlattenedData(\n\u001b[1;32m    515\u001b[0m     \u001b[38;5;28mtuple\u001b[39m(dynamic_fs),\n\u001b[1;32m    516\u001b[0m     \u001b[38;5;28mtuple\u001b[39m([(k, d\u001b[38;5;241m.\u001b[39mget(k, sntl)) \u001b[38;5;28;01mfor\u001b[39;00m k \u001b[38;5;129;01min\u001b[39;00m static_fs]),\n\u001b[1;32m    517\u001b[0m     \u001b[38;5;28mtuple\u001b[39m([(k, d\u001b[38;5;241m.\u001b[39mget(k, sntl)) \u001b[38;5;28;01mfor\u001b[39;00m k \u001b[38;5;129;01min\u001b[39;00m _wrapper_field_names]),\n\u001b[1;32m    518\u001b[0m )\n\u001b[1;32m    519\u001b[0m \u001b[38;5;28;01mreturn\u001b[39;00m \u001b[38;5;28mtuple\u001b[39m(dynamic_vs), aux\n",
      "\u001b[0;31mKeyboardInterrupt\u001b[0m: "
     ]
    }
   ],
   "source": [
    "# Fit the scene\n",
    "stepnum = 2000\n",
    "scene_ = scene.fit(obs, parameters, max_iter=stepnum, e_rel=1e-7, progress_bar=False)"
   ]
  },
  {
   "cell_type": "code",
   "execution_count": null,
   "id": "cd29a2ee-67d7-4e47-9b6a-ac879a48b39c",
   "metadata": {
    "execution": {
     "iopub.status.busy": "2025-07-31T19:28:27.929252Z",
     "iopub.status.idle": "2025-07-31T19:28:27.929493Z",
     "shell.execute_reply": "2025-07-31T19:28:27.929383Z",
     "shell.execute_reply.started": "2025-07-31T19:28:27.929373Z"
    }
   },
   "outputs": [],
   "source": [
    "# Plot the model, for each epoch\n",
    "scarlet2.plot.scene(\n",
    "    scene_,\n",
    "    observation=obs,\n",
    "    norm=norm,\n",
    "    show_model=False,\n",
    "    show_observed=True,\n",
    "    show_rendered=True,\n",
    "    show_residual=True,\n",
    "    add_labels=False,\n",
    "    add_boxes=True,\n",
    "    split_channels=False,\n",
    "    box_kwargs={\"edgecolor\": \"red\", \"facecolor\": \"none\"},\n",
    "    label_kwargs={\"color\": \"red\"},\n",
    ")\n",
    "plt.show()\n"
   ]
  },
  {
   "cell_type": "code",
   "execution_count": null,
   "id": "59976ffc-8454-4f03-acd4-b395fc30707f",
   "metadata": {
    "execution": {
     "iopub.status.busy": "2025-07-31T19:28:27.929972Z",
     "iopub.status.idle": "2025-07-31T19:28:27.930184Z",
     "shell.execute_reply": "2025-07-31T19:28:27.930092Z",
     "shell.execute_reply.started": "2025-07-31T19:28:27.930083Z"
    }
   },
   "outputs": [],
   "source": [
    "#Print the best fitting fluxes\n",
    "print(\"----------------- {}\".format(channels))\n",
    "for k, src in enumerate(scene_.sources):\n",
    "    print(\"Source {}, Fluxes: {}\".format(k, scarlet2.measure.flux(src)))"
   ]
  },
  {
   "cell_type": "code",
   "execution_count": null,
   "id": "cd81019b-4d1c-472b-a32d-0fd21ad590f9",
   "metadata": {},
   "outputs": [],
   "source": []
  }
 ],
 "metadata": {
  "kernelspec": {
   "display_name": "LSST",
   "language": "python",
   "name": "lsst"
  },
  "language_info": {
   "codemirror_mode": {
    "name": "ipython",
    "version": 3
   },
   "file_extension": ".py",
   "mimetype": "text/x-python",
   "name": "python",
   "nbconvert_exporter": "python",
   "pygments_lexer": "ipython3",
   "version": "3.12.11"
  }
 },
 "nbformat": 4,
 "nbformat_minor": 5
}
