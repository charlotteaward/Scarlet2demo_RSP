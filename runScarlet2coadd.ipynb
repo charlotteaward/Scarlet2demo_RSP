{
 "cells": [
  {
   "cell_type": "code",
   "execution_count": null,
   "id": "7947f3ec-7ba8-4141-aa84-ab9675b4bc22",
   "metadata": {
    "execution": {
     "iopub.status.busy": "2025-07-31T19:17:26.557441Z",
     "iopub.status.idle": "2025-07-31T19:17:26.557705Z",
     "shell.execute_reply": "2025-07-31T19:17:26.557593Z",
     "shell.execute_reply.started": "2025-07-31T19:17:26.557583Z"
    }
   },
   "outputs": [],
   "source": [
    "import matplotlib.pyplot as plt\n",
    "from astropy.wcs import WCS\n",
    "from astropy.visualization import make_lupton_rgb\n",
    "from astropy import units as u\n",
    "from astropy.coordinates import SkyCoord\n",
    "import gc\n",
    "import numpy as np\n",
    "import jax.numpy as jnp\n",
    "from astropy.io import fits\n",
    "\n",
    "import lsst.afw.display as afwDisplay\n",
    "from lsst.afw.image import MultibandExposure\n",
    "from lsst.daf.butler import Butler\n",
    "from lsst.rsp import get_tap_service\n",
    "import lsst.geom as geom\n",
    "\n",
    "import tempfile\n",
    "import getpass\n",
    "\n",
    "import scarlet2"
   ]
  },
  {
   "cell_type": "code",
   "execution_count": null,
   "id": "339185d7-c8bb-4ecb-a528-55e263faa1f5",
   "metadata": {
    "execution": {
     "iopub.status.busy": "2025-07-31T19:17:26.558287Z",
     "iopub.status.idle": "2025-07-31T19:17:26.558760Z",
     "shell.execute_reply": "2025-07-31T19:17:26.558442Z",
     "shell.execute_reply.started": "2025-07-31T19:17:26.558432Z"
    }
   },
   "outputs": [],
   "source": [
    "username = getpass.getuser()\n",
    "print('username: ', username)\n",
    "\n",
    "userdir = '/deleted-sundays/' + username\n",
    "if not os.path.exists(userdir):\n",
    "    os.makedirs(userdir)\n",
    "    print('Created ', userdir)\n",
    "else:\n",
    "    print('Directory already existed: ', userdir)"
   ]
  },
  {
   "cell_type": "code",
   "execution_count": null,
   "id": "d54f4c1c-2fd7-4f3c-9ee7-700e1ee11425",
   "metadata": {
    "execution": {
     "iopub.status.busy": "2025-07-31T19:17:26.559593Z",
     "iopub.status.idle": "2025-07-31T19:17:26.559833Z",
     "shell.execute_reply": "2025-07-31T19:17:26.559737Z",
     "shell.execute_reply.started": "2025-07-31T19:17:26.559727Z"
    }
   },
   "outputs": [],
   "source": [
    "tempdir = userdir + '/dp02_13a_temp'\n",
    "if not os.path.exists(tempdir):\n",
    "    os.makedirs(tempdir)\n",
    "    print('Created ', tempdir)\n",
    "else:\n",
    "    print('Directory already existed: ', tempdir)"
   ]
  },
  {
   "cell_type": "code",
   "execution_count": null,
   "id": "c090af85-3647-4b47-8885-320b35b0655f",
   "metadata": {
    "execution": {
     "iopub.status.busy": "2025-07-31T19:17:26.560532Z",
     "iopub.status.idle": "2025-07-31T19:17:26.560791Z",
     "shell.execute_reply": "2025-07-31T19:17:26.560692Z",
     "shell.execute_reply.started": "2025-07-31T19:17:26.560682Z"
    }
   },
   "outputs": [],
   "source": [
    "def cutout_coadd(butler, ra, dec, band='r', datasetType='deepCoadd',\n",
    "                 skymap=None, cutoutSideLength=51, psf_size=63, **kwargs):\n",
    "    \"\"\"\n",
    "    Produce a cutout from a coadd at the given ra, dec position.\n",
    "\n",
    "    Adapted from DC2 tutorial notebook by Michael Wood-Vasey.\n",
    "\n",
    "    Parameters\n",
    "    ----------\n",
    "    butler: lsst.daf.persistence.Butler\n",
    "        Helper object providing access to a data repository\n",
    "    ra: float\n",
    "        Right ascension of the center of the cutout, in degrees\n",
    "    dec: float\n",
    "        Declination of the center of the cutout, in degrees\n",
    "    band: string\n",
    "        Filter of the image to load\n",
    "    datasetType: string ['deepCoadd']\n",
    "        Which type of coadd to load.  Doesn't support 'calexp'\n",
    "    skymap: lsst.afw.skyMap.SkyMap [optional]\n",
    "        Pass in to avoid the Butler read.  Useful if you have lots of them.\n",
    "    cutoutSideLength: float [optional]\n",
    "        Size of the cutout region in pixels.\n",
    "\n",
    "    Returns\n",
    "    -------\n",
    "    MaskedImage\n",
    "    \"\"\"\n",
    "    radec = geom.SpherePoint(ra, dec, geom.degrees)\n",
    "    cutoutSize = geom.ExtentI(cutoutSideLength, cutoutSideLength)\n",
    "\n",
    "    if skymap is None:\n",
    "        skymap = butler.get(\"skyMap\")\n",
    "\n",
    "    # Look up the tract, patch for the RA, Dec\n",
    "    tractInfo = skymap.findTract(radec)\n",
    "    patchInfo = tractInfo.findPatch(radec)\n",
    "    xy = geom.PointI(tractInfo.getWcs().skyToPixel(radec))\n",
    "    bbox = geom.BoxI(xy - cutoutSize // 2, cutoutSize)\n",
    "    patch = tractInfo.getSequentialPatchIndex(patchInfo)\n",
    "\n",
    "    coaddId = {'tract': tractInfo.getId(), 'patch': patch, 'band': band}\n",
    "    parameters = {'bbox': bbox}\n",
    "\n",
    "    cutout_image = butler.get(datasetType, parameters=parameters,\n",
    "                              dataId=coaddId)\n",
    "    newWCS = cutout_image.getWcs()\n",
    "    anchor_image = butler.get(datasetType, #parameters=parameters,\n",
    "                              dataId=coaddId)#butler.get('deepCoadd_calexp', dataId=anchor_dataId)\n",
    "    anchor_wcs = butler.get('deepCoadd.wcs', dataId=coaddId)#anchor_dataId)\n",
    "    center = geom.SpherePoint(ra, dec, geom.degrees)\n",
    "    anchor_info = anchor_image.getInfo()\n",
    "    center_pix_anchor = anchor_wcs.skyToPixel(center)\n",
    "\n",
    "    newimage_info = cutout_image.getInfo()\n",
    "    center_pix_newimage = newWCS.skyToPixel(center)\n",
    "    point_tuple = (center_pix_anchor[0], center_pix_anchor[1])\n",
    "    point_image = geom.Point2D(point_tuple)\n",
    "    anchor_psf = anchor_image.getPsf()\n",
    "    psf_shape = anchor_psf.computeShape(point_image)\n",
    "\n",
    "    newimage_psf = cutout_image.getPsf()\n",
    "    point_tuple = (center_pix_newimage[0], center_pix_newimage[1])\n",
    "    point_image = geom.Point2D(point_tuple)\n",
    "    psf_shape = newimage_psf.computeShape(point_image)\n",
    "    psf_img = anchor_psf.computeImage(point_image).convertF()\n",
    "    psf_out = psf_img.array\n",
    "    psf_pad_x = int((psf_size-psf_out.shape[0])/2)\n",
    "    psf_pad_y = int((psf_size-psf_out.shape[1])/2)\n",
    "    psf_out = np.pad(psf_out,((psf_pad_x, psf_pad_x),(psf_pad_y, psf_pad_y)), 'constant')\n",
    "    return cutout_image, psf_out, tractInfo.getId(), patch"
   ]
  },
  {
   "cell_type": "code",
   "execution_count": null,
   "id": "b0cceff6-48b9-4e23-89c4-266e8384868e",
   "metadata": {
    "execution": {
     "iopub.status.busy": "2025-07-31T19:17:26.561343Z",
     "iopub.status.idle": "2025-07-31T19:17:26.561677Z",
     "shell.execute_reply": "2025-07-31T19:17:26.561528Z",
     "shell.execute_reply.started": "2025-07-31T19:17:26.561481Z"
    }
   },
   "outputs": [],
   "source": [
    "afwDisplay.setDefaultBackend('matplotlib')"
   ]
  },
  {
   "cell_type": "code",
   "execution_count": null,
   "id": "e7a0c5d5-1d79-49c1-b82a-33bb495dffce",
   "metadata": {
    "execution": {
     "iopub.status.busy": "2025-07-31T19:17:26.562527Z",
     "iopub.status.idle": "2025-07-31T19:17:26.562802Z",
     "shell.execute_reply": "2025-07-31T19:17:26.562703Z",
     "shell.execute_reply.started": "2025-07-31T19:17:26.562694Z"
    }
   },
   "outputs": [],
   "source": [
    "plt.style.use('tableau-colorblind10')\n",
    "%matplotlib inline"
   ]
  },
  {
   "cell_type": "code",
   "execution_count": null,
   "id": "fb47d842-1fb4-4e1c-94f5-3abe86f27e6f",
   "metadata": {
    "execution": {
     "iopub.status.busy": "2025-07-31T19:17:26.563389Z",
     "iopub.status.idle": "2025-07-31T19:17:26.563645Z",
     "shell.execute_reply": "2025-07-31T19:17:26.563514Z",
     "shell.execute_reply.started": "2025-07-31T19:17:26.563505Z"
    }
   },
   "outputs": [],
   "source": [
    "params = {'axes.labelsize': 28,\n",
    "          'font.size': 24,\n",
    "          'legend.fontsize': 14,\n",
    "          'xtick.major.width': 3,\n",
    "          'xtick.minor.width': 2,\n",
    "          'xtick.major.size': 12,\n",
    "          'xtick.minor.size': 6,\n",
    "          'xtick.direction': 'in',\n",
    "          'xtick.top': True,\n",
    "          'lines.linewidth': 3,\n",
    "          'axes.linewidth': 3,\n",
    "          'axes.labelweight': 3,\n",
    "          'axes.titleweight': 3,\n",
    "          'ytick.major.width': 3,\n",
    "          'ytick.minor.width': 2,\n",
    "          'ytick.major.size': 12,\n",
    "          'ytick.minor.size': 6,\n",
    "          'ytick.direction': 'in',\n",
    "          'ytick.right': True,\n",
    "          'figure.figsize': [8, 8],\n",
    "          'figure.facecolor': 'White'\n",
    "          }\n",
    "plt.rcParams.update(params)"
   ]
  },
  {
   "cell_type": "code",
   "execution_count": null,
   "id": "5efce734-f68c-4d53-9f59-5894340e086c",
   "metadata": {
    "execution": {
     "iopub.status.busy": "2025-07-31T19:17:26.564354Z",
     "iopub.status.idle": "2025-07-31T19:17:26.564572Z",
     "shell.execute_reply": "2025-07-31T19:17:26.564480Z",
     "shell.execute_reply.started": "2025-07-31T19:17:26.564471Z"
    }
   },
   "outputs": [],
   "source": [
    "butler = Butler('dp02', collections='2.2i/runs/DP0.2')"
   ]
  },
  {
   "cell_type": "code",
   "execution_count": null,
   "id": "b261c0e2-99fe-4ecf-8efb-e2b8dd357791",
   "metadata": {
    "execution": {
     "iopub.status.busy": "2025-07-31T19:17:26.565199Z",
     "iopub.status.idle": "2025-07-31T19:17:26.565456Z",
     "shell.execute_reply": "2025-07-31T19:17:26.565357Z",
     "shell.execute_reply.started": "2025-07-31T19:17:26.565348Z"
    }
   },
   "outputs": [],
   "source": [
    "ra = 60.2901612 \n",
    "dec = -44.1420602"
   ]
  },
  {
   "cell_type": "code",
   "execution_count": null,
   "id": "1dae42fe-f864-4931-8ae6-b50a8de85e74",
   "metadata": {
    "execution": {
     "iopub.status.busy": "2025-07-31T19:17:26.565952Z",
     "iopub.status.idle": "2025-07-31T19:17:26.566174Z",
     "shell.execute_reply": "2025-07-31T19:17:26.566082Z",
     "shell.execute_reply.started": "2025-07-31T19:17:26.566073Z"
    }
   },
   "outputs": [],
   "source": [
    "cutout_image_g, psf_g, tract_g, patch_g = cutout_coadd(butler, ra, dec, band='g',\n",
    "                              datasetType='deepCoadd', cutoutSideLength=71)\n",
    "cutout_image_r, psf_r, tract_r, patch_r = cutout_coadd(butler, ra, dec, band='r',\n",
    "                              datasetType='deepCoadd', cutoutSideLength=71)\n",
    "cutout_image_i, psf_i, tract_i, patch_i = cutout_coadd(butler, ra, dec, band='i',\n",
    "                              datasetType='deepCoadd', cutoutSideLength=71)\n",
    "coadds = [cutout_image_g, cutout_image_r, cutout_image_i]\n",
    "coadds = MultibandExposure.fromExposures(['g', 'r', 'i'], coadds)\n",
    "\n",
    "im_arr = jnp.asarray([cutout_image_g.image.array,cutout_image_r.image.array,cutout_image_i.image.array])\n",
    "weight_arr = jnp.asarray([1/cutout_image_g.variance.array,1/cutout_image_r.variance.array,1/cutout_image_i.variance.array])\n",
    "psf_arr = jnp.stack((psf_g,psf_r,psf_i))\n",
    "\n"
   ]
  },
  {
   "cell_type": "code",
   "execution_count": null,
   "id": "fe871f8b-f206-4990-989e-5269773e3457",
   "metadata": {
    "execution": {
     "iopub.status.busy": "2025-07-31T19:17:26.566659Z",
     "iopub.status.idle": "2025-07-31T19:17:26.566873Z",
     "shell.execute_reply": "2025-07-31T19:17:26.566785Z",
     "shell.execute_reply.started": "2025-07-31T19:17:26.566776Z"
    }
   },
   "outputs": [],
   "source": [
    "filename = os.path.join(tempdir,'cutout_g.fits')\n",
    "cutout_image_g.writeFits(filename)\n",
    "f=fits.open(filename)\n",
    "wcs_g = WCS(f[1].header)\n",
    "filename = os.path.join(tempdir,'cutout_r.fits')\n",
    "cutout_image_r.writeFits(filename)\n",
    "f=fits.open(filename)\n",
    "wcs_r = WCS(f[1].header)\n",
    "filename = os.path.join(tempdir,'cutout_i.fits')\n",
    "cutout_image_g.writeFits(filename)\n",
    "f=fits.open(filename)\n",
    "wcs_i = WCS(f[1].header)"
   ]
  },
  {
   "cell_type": "code",
   "execution_count": null,
   "id": "f0a4817e-769d-41f3-9601-22f06d421605",
   "metadata": {
    "execution": {
     "iopub.status.busy": "2025-07-31T19:17:26.567455Z",
     "iopub.status.idle": "2025-07-31T19:17:26.567692Z",
     "shell.execute_reply": "2025-07-31T19:17:26.567584Z",
     "shell.execute_reply.started": "2025-07-31T19:17:26.567575Z"
    }
   },
   "outputs": [],
   "source": [
    "obs = scarlet2.Observation(im_arr,\n",
    "                           weights=weight_arr,\n",
    "                           psf=scarlet2.ArrayPSF(jnp.array(psf_arr)),\n",
    "                           wcs=wcs_r,\n",
    "                           channels=['g','r','i'])"
   ]
  },
  {
   "cell_type": "code",
   "execution_count": null,
   "id": "bfcf1177-0ef7-4561-abb2-0a56057d378c",
   "metadata": {},
   "outputs": [],
   "source": [
    "wcs_g = cutout_image.getWcs()\n",
    "x0 = float(cutout_image_g.getX0())\n",
    "y0 = float(cutout_image_g.getY0())\n",
    "width = cutout_image_g.getWidth()\n",
    "height = cutout_image_g.getHeight()\n",
    "\n",
    "xcorners = [x0, x0+width, x0+width, x0]\n",
    "ycorners = [y0, y0, y0+width, y0+width]\n",
    "\n",
    "ra_corners = []\n",
    "dec_corners = []\n",
    "\n",
    "for i in range(len(xcorners)):\n",
    "    radec = wcs_.pixelToSky(xcorners[i], ycorners[i])\n",
    "    ra_corners.append(radec.getRa().asDegrees())\n",
    "    dec_corners.append(radec.getDec().asDegrees())"
   ]
  },
  {
   "cell_type": "code",
   "execution_count": null,
   "id": "c3966e29-7b94-4075-ac09-5b9b5b1296ad",
   "metadata": {
    "execution": {
     "iopub.status.busy": "2025-07-31T19:17:26.568699Z",
     "iopub.status.idle": "2025-07-31T19:17:26.568947Z",
     "shell.execute_reply": "2025-07-31T19:17:26.568821Z",
     "shell.execute_reply.started": "2025-07-31T19:17:26.568812Z"
    }
   },
   "outputs": [],
   "source": [
    "service = get_tap_service(\"tap\")"
   ]
  },
  {
   "cell_type": "code",
   "execution_count": null,
   "id": "4c727e24-36ca-42fb-83ce-1afc32010837",
   "metadata": {
    "execution": {
     "iopub.status.busy": "2025-07-31T19:17:26.569406Z",
     "iopub.status.idle": "2025-07-31T19:17:26.569634Z",
     "shell.execute_reply": "2025-07-31T19:17:26.569529Z",
     "shell.execute_reply.started": "2025-07-31T19:17:26.569521Z"
    }
   },
   "outputs": [],
   "source": [
    "query = \"SELECT objectId, coord_ra, coord_dec, x, y, tract, patch \" + \\\n",
    "        \"FROM dp02_dc2_catalogs.Object \" + \\\n",
    "        \"WHERE CONTAINS(POINT('ICRS', coord_ra, coord_dec), \" +\\\n",
    "        \"POLYGON('ICRS', \" + str(ra_corners[0]) + \", \" + str(dec_corners[0]) + \", \" +\\\n",
    "        str(ra_corners[1]) + \", \" + str(dec_corners[1]) + \", \" +\\\n",
    "        str(ra_corners[2]) + \", \" + str(dec_corners[2]) + \", \" +\\\n",
    "        str(ra_corners[3]) + \", \" + str(dec_corners[3]) + \")) = 1 AND \" +\\\n",
    "        \"tract = \" + str(tract_g) + \" AND patch = \" + str(patch_g)\n",
    "print(query)"
   ]
  },
  {
   "cell_type": "code",
   "execution_count": null,
   "id": "8c216e6c-eede-4ef0-8f7b-51613c50ac0b",
   "metadata": {
    "execution": {
     "iopub.status.busy": "2025-07-31T19:17:26.570352Z",
     "iopub.status.idle": "2025-07-31T19:17:26.570603Z",
     "shell.execute_reply": "2025-07-31T19:17:26.570502Z",
     "shell.execute_reply.started": "2025-07-31T19:17:26.570492Z"
    }
   },
   "outputs": [],
   "source": [
    "job = service.submit_job(query)\n",
    "job.run()\n",
    "job.wait(phases=['COMPLETED', 'ERROR'])\n",
    "print('Job phase is', job.phase)"
   ]
  },
  {
   "cell_type": "code",
   "execution_count": null,
   "id": "c6704007-a051-45a1-bb8e-7f6a4dbbaae6",
   "metadata": {
    "execution": {
     "iopub.status.busy": "2025-07-31T19:17:26.571213Z",
     "iopub.status.idle": "2025-07-31T19:17:26.571428Z",
     "shell.execute_reply": "2025-07-31T19:17:26.571337Z",
     "shell.execute_reply.started": "2025-07-31T19:17:26.571329Z"
    }
   },
   "outputs": [],
   "source": [
    "results = job.fetch_result()\n",
    "print(len(results))\n",
    "source = results.to_table()\n",
    "coords = SkyCoord(ra=np.asarray(source['coord_ra'],dtype=float) * u.deg, dec=np.asarray(source['coord_dec'],dtype=float) * u.deg)"
   ]
  },
  {
   "cell_type": "code",
   "execution_count": null,
   "id": "3462f097-23e7-4ca4-bb89-999cd5e43cbf",
   "metadata": {
    "execution": {
     "iopub.status.busy": "2025-07-31T19:17:26.572180Z",
     "iopub.status.idle": "2025-07-31T19:17:26.572405Z",
     "shell.execute_reply": "2025-07-31T19:17:26.572312Z",
     "shell.execute_reply.started": "2025-07-31T19:17:26.572303Z"
    }
   },
   "outputs": [],
   "source": [
    "with scarlet2.Scene(model_frame) as scene:\n",
    "    for i, center in enumerate(coords):    \n",
    "        #Now initialize background sources that are static across epochs\n",
    "        try:\n",
    "            spectrum, morph = scarlet2.init.from_gaussian_moments(obs, center)\n",
    "            # If the boxes produced are too small, try adjusting the SNR or box_size arguments https://github.com/pmelchior/scarlet2/blob/8a7bf55f4908a402ba7e43b4b564886aa4ad2a4b/src/scarlet2/init.py#L205\n",
    "        except:# IndexError:\n",
    "            morph = scarlet2.init.compact_morphology()\n",
    "            spectrum = scarlet2.init.pixel_spectrum(obs, center)\n",
    "        # the host is barely resolved and the data are noisy:\n",
    "        # use a starlet morphology for extra stability (esp to noise)\n",
    "        morph = scarlet2.StarletMorphology.from_image(morph)\n",
    "        # Select the transient-free epochs to initialize amplitudes for the static source\n",
    "        # These will be shared across all epochs\n",
    "        scarlet2.Source(\n",
    "            center, spectrum, morph\n",
    "        )\n",
    "       "
   ]
  },
  {
   "cell_type": "code",
   "execution_count": null,
   "id": "3d8b1636-dca0-47c8-9424-57b29d008079",
   "metadata": {
    "execution": {
     "iopub.status.busy": "2025-07-31T19:17:26.572895Z",
     "iopub.status.idle": "2025-07-31T19:17:26.573102Z",
     "shell.execute_reply": "2025-07-31T19:17:26.573011Z",
     "shell.execute_reply.started": "2025-07-31T19:17:26.573002Z"
    }
   },
   "outputs": [],
   "source": [
    "from numpyro.distributions import constraints\n",
    "\n",
    "morph_step = lambda p: scarlet2.relative_step(p, factor=1e-2)\n",
    "SED_step = lambda p: scarlet2.relative_step(p, factor=1e-2)\n",
    "\n",
    "parameters = scene.make_parameters()\n",
    "\n",
    "for i, center in enumerate(coords):\n",
    "        # galaxy parameters\n",
    "        parameters += scarlet2.Parameter(\n",
    "            scene.sources[i+1].spectrum.data, name=f\"spectrum.{i+1}\", constraint=constraints.positive, stepsize=SED_step\n",
    "        )\n",
    "        parameters += scarlet2.Parameter(\n",
    "            scene.sources[i+1].morphology.coeffs,\n",
    "            name=f\"morph.{i+1}\",\n",
    "            stepsize=morph_step,\n",
    "        )\n"
   ]
  },
  {
   "cell_type": "code",
   "execution_count": null,
   "id": "8e755a90-ba04-46fd-9a95-48dc8884845d",
   "metadata": {
    "execution": {
     "iopub.status.busy": "2025-07-31T19:17:26.573782Z",
     "iopub.status.idle": "2025-07-31T19:17:26.574003Z",
     "shell.execute_reply": "2025-07-31T19:17:26.573908Z",
     "shell.execute_reply.started": "2025-07-31T19:17:26.573898Z"
    }
   },
   "outputs": [],
   "source": [
    "scarlet2.plot.scene(\n",
    "    scene,\n",
    "    observation=obs,\n",
    "    norm=None,\n",
    "    show_model=False,\n",
    "    show_observed=True,\n",
    "    show_rendered=True,\n",
    "    show_residual=True,\n",
    "    add_labels=True,\n",
    "    add_boxes=False,\n",
    "    split_channels=False,\n",
    "    box_kwargs={\"edgecolor\": \"red\", \"facecolor\": \"none\"},\n",
    "    label_kwargs={\"color\": \"red\"},\n",
    ")\n",
    "plt.show()"
   ]
  },
  {
   "cell_type": "code",
   "execution_count": null,
   "id": "b253dde1-27d2-47b2-bc8c-699f23d6b883",
   "metadata": {
    "execution": {
     "iopub.status.busy": "2025-07-31T19:17:26.574711Z",
     "iopub.status.idle": "2025-07-31T19:17:26.574923Z",
     "shell.execute_reply": "2025-07-31T19:17:26.574830Z",
     "shell.execute_reply.started": "2025-07-31T19:17:26.574821Z"
    }
   },
   "outputs": [],
   "source": [
    "# Fit the scene\n",
    "stepnum = 2000\n",
    "scene_ = scene.fit(obs, parameters, max_iter=stepnum, e_rel=1e-7, progress_bar=False)"
   ]
  },
  {
   "cell_type": "code",
   "execution_count": null,
   "id": "cd29a2ee-67d7-4e47-9b6a-ac879a48b39c",
   "metadata": {
    "execution": {
     "iopub.status.busy": "2025-07-31T19:17:26.575607Z",
     "iopub.status.idle": "2025-07-31T19:17:26.575868Z",
     "shell.execute_reply": "2025-07-31T19:17:26.575768Z",
     "shell.execute_reply.started": "2025-07-31T19:17:26.575757Z"
    }
   },
   "outputs": [],
   "source": [
    "# Plot the model, for each epoch\n",
    "scarlet2.plot.scene(\n",
    "    scene_,\n",
    "    observation=obs,\n",
    "    norm=None,\n",
    "    show_model=False,\n",
    "    show_observed=True,\n",
    "    show_rendered=True,\n",
    "    show_residual=True,\n",
    "    add_labels=True,\n",
    "    add_boxes=True,\n",
    "    split_channels=False,\n",
    "    box_kwargs={\"edgecolor\": \"red\", \"facecolor\": \"none\"},\n",
    "    label_kwargs={\"color\": \"red\"},\n",
    ")\n",
    "plt.show()\n"
   ]
  },
  {
   "cell_type": "code",
   "execution_count": null,
   "id": "59976ffc-8454-4f03-acd4-b395fc30707f",
   "metadata": {
    "execution": {
     "iopub.status.busy": "2025-07-31T19:17:26.576536Z",
     "iopub.status.idle": "2025-07-31T19:17:26.576787Z",
     "shell.execute_reply": "2025-07-31T19:17:26.576669Z",
     "shell.execute_reply.started": "2025-07-31T19:17:26.576660Z"
    }
   },
   "outputs": [],
   "source": [
    "#Print the best fitting fluxes\n",
    "print(\"----------------- {}\".format(channels))\n",
    "for k, src in enumerate(scene_.sources):\n",
    "    print(\"Source {}, Fluxes: {}\".format(k, scarlet2.measure.flux(src)))"
   ]
  }
 ],
 "metadata": {
  "kernelspec": {
   "display_name": "LSST",
   "language": "python",
   "name": "lsst"
  },
  "language_info": {
   "codemirror_mode": {
    "name": "ipython",
    "version": 3
   },
   "file_extension": ".py",
   "mimetype": "text/x-python",
   "name": "python",
   "nbconvert_exporter": "python",
   "pygments_lexer": "ipython3",
   "version": "3.12.11"
  }
 },
 "nbformat": 4,
 "nbformat_minor": 5
}
